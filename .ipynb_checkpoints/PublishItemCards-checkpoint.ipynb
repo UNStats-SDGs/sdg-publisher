{
 "cells": [
  {
   "cell_type": "markdown",
   "metadata": {},
   "source": [
    "## Process the SDG Data Items\n",
    "The purpose of this notebook is to illustrate how to use the SDG Metadata API in conjunction with local CSV files to publish spatial data to ArcGIS Online.  While this example has some elements that are specific to the UNSD workflow it is generic enough to show how to loop and use the API for publishing.  You may to need add or update workflows around publishing to meet your exact needs and working environments.\n",
    "\n",
    "# install & requirements\n",
    "Data Package python lib\n",
    "+ pip install ipdb\n",
    "+ pip install requests\n",
    "+ pip install urllib3\n",
    "\n",
    "\n",
    "# ArcGIS API for Python\n",
    "Install & Setup Guide here: https://developers.arcgis.com/python/guide/install-and-set-up/#Test-your-install-with-jupyter-notebook "
   ]
  },
  {
   "cell_type": "markdown",
   "metadata": {},
   "source": [
    "### Import python libraries"
   ]
  },
  {
   "cell_type": "code",
   "execution_count": null,
   "metadata": {
    "collapsed": true
   },
   "outputs": [],
   "source": [
    "import os, re, json, traceback, sys, copy, urllib\n",
    "import urllib.request as urlopen\n",
    "import urllib.request as request\n",
    "import requests\n",
    "\n",
    "from arcgis.gis import GIS\n",
    "\n",
    "import time\n",
    "from datetime import datetime\n",
    "\n",
    "#set up the debugging information for the notebook\n",
    "import ipdb; \n",
    "ipdb.set_trace()\n",
    "\n",
    "# used to prompt for user input\n",
    "# when using this script internally, you may remove this and simply hard code in your username and password\n",
    "import getpass\n",
    "\n",
    "# this helps us do some debugging within the Python Notebook\n",
    "# another optional component\n",
    "from IPython.display import display"
   ]
  },
  {
   "cell_type": "markdown",
   "metadata": {},
   "source": [
    "### Create a connection to your ArcGIS Online Organization\n",
    "This will rely on using the ArcGIS API for python to connect to your ArcGIS Online Organization to publish and manage data.  For more information about this python library visit the developer resources at [https://developers.arcgis.com/python/](https://developers.arcgis.com/python/)"
   ]
  },
  {
   "cell_type": "code",
   "execution_count": 5,
   "metadata": {
    "scrolled": true
   },
   "outputs": [
    {
     "name": "stdout",
     "output_type": "stream",
     "text": [
      "Username: tbutcher_undesa\n",
      "Password: ········\n",
      "Logged in as: tbutcher_undesa\n"
     ]
    }
   ],
   "source": [
    "online_username = input('Username: ')\n",
    "online_password = getpass.getpass('Password: ')\n",
    "\n",
    "online_connection = \"https://www.arcgis.com\"\n",
    "gis_online_connection = GIS(online_connection, online_username, online_password)\n",
    "\n",
    "user = gis_online_connection.properties.user.username\n",
    "print ('Logged in as: ' + user)\n",
    "\n",
    "data_dir = r\"FIS4SDGs/csv/\"\n",
    "metadata_dir = r\"FIS4SDGs/\"\n",
    "failed_series = []"
   ]
  },
  {
   "cell_type": "markdown",
   "metadata": {},
   "source": [
    "### Get the JSON Data from the UN SDG Metadata API\n",
    "\n",
    "The SDG Metadata API is designed to  retrieve information and metadata on the [Sustainable Development Goals](http://www.un.org/sustainabledevelopment/sustainable-development-goals/).\n",
    "\n",
    "The Inter-agency Expert Group on SDG Indicators released a series of PDFs that includes metadata for each Indicator. Those PDFs can be downloaded [here](http://unstats.un.org/sdgs/iaeg-sdgs/metadata-compilation/).\n",
    "\n",
    "The metadata API is an Open Source project maintained by the UN Statisitics division and be be accessed on [github](https://github.com/UNStats-SDGs/sdg-metadata-api)"
   ]
  },
  {
   "cell_type": "code",
   "execution_count": 7,
   "metadata": {},
   "outputs": [
    {
     "name": "stdout",
     "output_type": "stream",
     "text": [
      "{'code': '1', 'title': 'End poverty in all its forms everywhere', 'description': 'Goal 1 calls for an end to poverty in all its manifestations, including extreme poverty, over the next 15 years. All people everywhere, including the poorest and most vulnerable, should enjoy a basic standard of living and social protection benefits.', 'uri': '/v1/sdg/Goal/1', 'targets': [{'goal': None, 'code': '1.1', 'title': 'By 2030, eradicate extreme poverty for all people everywhere, currently measured as people living on less than $1.25 a day', 'description': 'By 2030, eradicate extreme poverty for all people everywhere, currently measured as people living on less than $1.25 a day', 'uri': '/v1/Target/1.1', 'indicators': [{'goal': None, 'target': None, 'code': '1.1.1', 'description': 'Proportion of population below the international poverty line, by sex, age, employment status and geographical location (urban/rural)', 'tier': '1', 'uri': '/v1/Indicator/1.1.1', 'series': [{'goal': None, 'target': None, 'indicator': None, 'release': '2017.Q2.G.01', 'code': 'SI_POV_DAY1', 'description': 'Proportion of population below the international poverty line of US$1.90 per day, total (%)', 'uri': '/v1/sdg/Series/SI_POV_DAY1'}, {'goal': None, 'target': None, 'indicator': None, 'release': '2017.Q2.G.01', 'code': 'SI_POV_EMP1', 'description': 'Proportion of employed population below the international poverty line of US$1.90 per day (the working poor), total and by sex, age (%)', 'uri': '/v1/sdg/Series/SI_POV_EMP1'}]}]}, {'goal': None, 'code': '1.2', 'title': 'By 2030, reduce at least by half the proportion of men, women and children of all ages living in poverty in all its dimensions according to national definitions', 'description': 'By 2030, reduce at least by half the proportion of men, women and children of all ages living in poverty in all its dimensions according to national definitions', 'uri': '/v1/Target/1.2', 'indicators': [{'goal': None, 'target': None, 'code': '1.2.1', 'description': 'Proportion of population living below the national poverty line, by sex and age', 'tier': '1', 'uri': '/v1/Indicator/1.2.1', 'series': [{'goal': None, 'target': None, 'indicator': None, 'release': '2017.Q2.G.01', 'code': 'SI_POV_NAHC', 'description': 'Proportion of population living below the national poverty line, total and by rural/urban (%)', 'uri': '/v1/sdg/Series/SI_POV_NAHC'}]}]}, {'goal': None, 'code': '1.3', 'title': 'Implement nationally appropriate social protection systems and measures for all, including floors, and by 2030 achieve substantial coverage of the poor and the vulnerable', 'description': 'Implement nationally appropriate social protection systems and measures for all, including floors, and by 2030 achieve substantial coverage of the poor and the vulnerable', 'uri': '/v1/Target/1.3', 'indicators': [{'goal': None, 'target': None, 'code': '1.3.1', 'description': 'Proportion of population covered by social protection floors/systems, by sex, distinguishing children, unemployed persons, older persons, persons with disabilities, pregnant women, newborns, work-injury victims and the poor and the vulnerable', 'tier': '1', 'uri': '/v1/Indicator/1.3.1', 'series': [{'goal': None, 'target': None, 'indicator': None, 'release': '2017.Q2.G.01', 'code': 'SI_COV_MATNL', 'description': 'Proportion of mothers receiving maternity benefits and benefits for newborns, total (%)', 'uri': '/v1/sdg/Series/SI_COV_MATNL'}, {'goal': None, 'target': None, 'indicator': None, 'release': '2017.Q2.G.01', 'code': 'SI_COV_POOR', 'description': 'Proportion of poor population covered by social protection floors/systems, total (%)', 'uri': '/v1/sdg/Series/SI_COV_POOR'}, {'goal': None, 'target': None, 'indicator': None, 'release': '2017.Q2.G.01', 'code': 'SI_COV_SOCAST', 'description': 'Proportion of population covered by social assistance programs, total (%)', 'uri': '/v1/sdg/Series/SI_COV_SOCAST'}, {'goal': None, 'target': None, 'indicator': None, 'release': '2017.Q2.G.01', 'code': 'SI_COV_SOCASTPQ', 'description': 'Proportion of poorest quintile population covered by social assistance programs, total (%)', 'uri': '/v1/sdg/Series/SI_COV_SOCASTPQ'}, {'goal': None, 'target': None, 'indicator': None, 'release': '2017.Q2.G.01', 'code': 'SI_COV_SOCINS', 'description': 'Proportion of population covered by social insurance programs, total (%)', 'uri': '/v1/sdg/Series/SI_COV_SOCINS'}, {'goal': None, 'target': None, 'indicator': None, 'release': '2017.Q2.G.01', 'code': 'SI_COV_CHLD', 'description': 'Proportion of children covered by social protection, total (%)', 'uri': '/v1/sdg/Series/SI_COV_CHLD'}, {'goal': None, 'target': None, 'indicator': None, 'release': '2017.Q2.G.01', 'code': 'SI_COV_SOCINSPQ', 'description': 'Proportion of poorest quintile population covered by social insurance programs, total (%)', 'uri': '/v1/sdg/Series/SI_COV_SOCINSPQ'}, {'goal': None, 'target': None, 'indicator': None, 'release': '2017.Q2.G.01', 'code': 'SI_COV_UEMP', 'description': 'Proportion of unemployed population receiving unemployment benefits, total and by sex (%)', 'uri': '/v1/sdg/Series/SI_COV_UEMP'}, {'goal': None, 'target': None, 'indicator': None, 'release': '2017.Q2.G.01', 'code': 'SI_COV_VULN', 'description': 'Proportion of vulnerable population covered by social protection floors/systems, total (%)', 'uri': '/v1/sdg/Series/SI_COV_VULN'}, {'goal': None, 'target': None, 'indicator': None, 'release': '2017.Q2.G.01', 'code': 'SI_COV_WKINJRY', 'description': 'Proportion of employed population covered in the event of work injury, total and by sex (%)', 'uri': '/v1/sdg/Series/SI_COV_WKINJRY'}, {'goal': None, 'target': None, 'indicator': None, 'release': '2017.Q2.G.01', 'code': 'SI_COV_BENFTS', 'description': 'Proportion of population covered by at least one social protection floor/system, total (%)', 'uri': '/v1/sdg/Series/SI_COV_BENFTS'}, {'goal': None, 'target': None, 'indicator': None, 'release': '2017.Q2.G.01', 'code': 'SI_COV_DISAB', 'description': 'Proportion of population with severe disabilities collecting disability social protection benefits, total (%)', 'uri': '/v1/sdg/Series/SI_COV_DISAB'}, {'goal': None, 'target': None, 'indicator': None, 'release': '2017.Q2.G.01', 'code': 'SI_COV_LMKT', 'description': 'Proportion of population covered by labour market programs, total (%)', 'uri': '/v1/sdg/Series/SI_COV_LMKT'}, {'goal': None, 'target': None, 'indicator': None, 'release': '2017.Q2.G.01', 'code': 'SI_COV_LMKTPQ', 'description': 'Proportion of poorest quintile population covered by labour market programs, total (%)', 'uri': '/v1/sdg/Series/SI_COV_LMKTPQ'}, {'goal': None, 'target': None, 'indicator': None, 'release': '2017.Q2.G.01', 'code': 'SI_COV_PENSN', 'description': 'Proportion of population above retirement age receiving a pension, total and by sex (%)', 'uri': '/v1/sdg/Series/SI_COV_PENSN'}]}]}, {'goal': None, 'code': '1.4', 'title': 'By 2030, ensure that all men and women, in particular the poor and the vulnerable, have equal rights to economic resources, as well as access to basic services, ownership and control over land and other forms of property, inheritance, natural resources, appropriate new technology and financial services, including microfinance', 'description': 'By 2030, ensure that all men and women, in particular the poor and the vulnerable, have equal rights to economic resources, as well as access to basic services, ownership and control over land and other forms of property, inheritance, natural resources, appropriate new technology and financial services, including microfinance', 'uri': '/v1/Target/1.4', 'indicators': []}, {'goal': None, 'code': '1.5', 'title': 'By 2030, build the resilience of the poor and those in vulnerable situations and reduce their exposure and vulnerability to climate-related extreme events and other economic, social and environmental shocks and disasters', 'description': 'By 2030, build the resilience of the poor and those in vulnerable situations and reduce their exposure and vulnerability to climate-related extreme events and other economic, social and environmental shocks and disasters', 'uri': '/v1/Target/1.5', 'indicators': [{'goal': None, 'target': None, 'code': '1.5.1', 'description': 'Number of deaths, missing persons and directly affected persons attributed to disasters per 100,000 population', 'tier': '1', 'uri': '/v1/Indicator/1.5.1', 'series': [{'goal': None, 'target': None, 'indicator': None, 'release': '2017.Q2.G.01', 'code': 'VC_DSR_MISS', 'description': 'Number of missing persons due to disaster, total (number)', 'uri': '/v1/sdg/Series/VC_DSR_MISS'}, {'goal': None, 'target': None, 'indicator': None, 'release': '2017.Q2.G.01', 'code': 'VC_DSR_AFFCT', 'description': 'Number of people affected by disaster, total (number)', 'uri': '/v1/sdg/Series/VC_DSR_AFFCT'}, {'goal': None, 'target': None, 'indicator': None, 'release': '2017.Q2.G.01', 'code': 'VC_DSR_MORT', 'description': 'Number of deaths due to disaster, total (number)', 'uri': '/v1/sdg/Series/VC_DSR_MORT'}]}, {'goal': None, 'target': None, 'code': '1.5.2', 'description': 'Direct economic loss attributed to disasters in relation to global gross domestic product (GDP)', 'tier': '1', 'uri': '/v1/Indicator/1.5.2', 'series': [{'goal': None, 'target': None, 'indicator': None, 'release': '2017.Q2.G.01', 'code': 'VC_DSR_GDPLS', 'description': 'Direct economic loss attributed to disasters, total (millions of current United States dollars)', 'uri': '/v1/sdg/Series/VC_DSR_GDPLS'}]}, {'goal': None, 'target': None, 'code': '1.5.3', 'description': 'Number of countries that adopt and implement national disaster risk reduction strategies in line with the Sendai Framework for Disaster Risk Reduction 2015-2030', 'tier': '1', 'uri': '/v1/Indicator/1.5.3', 'series': [{'goal': None, 'target': None, 'indicator': None, 'release': '2017.Q2.G.01', 'code': 'SG_DSR_LEGREG', 'description': 'Countries with legislative and/or regulatory provisions been made for managing disaster risk (1 = YES; 0 = NO)', 'uri': '/v1/sdg/Series/SG_DSR_LEGREG'}]}]}, {'goal': None, 'code': '1.a', 'title': 'Ensure significant mobilization of resources from a variety of sources, including through enhanced development cooperation, in order to provide adequate and predictable means for developing countries, in particular least developed countries, to implement programmes and policies to end poverty in all its dimensions', 'description': 'Ensure significant mobilization of resources from a variety of sources, including through enhanced development cooperation, in order to provide adequate and predictable means for developing countries, in particular least developed countries, to implement programmes and policies to end poverty in all its dimensions', 'uri': '/v1/Target/1.a', 'indicators': []}, {'goal': None, 'code': '1.b', 'title': 'Create sound policy frameworks at the national, regional and international levels, based on pro-poor and gender-sensitive development strategies, to support accelerated investment in poverty eradication actions', 'description': 'Create sound policy frameworks at the national, regional and international levels, based on pro-poor and gender-sensitive development strategies, to support accelerated investment in poverty eradication actions', 'uri': '/v1/Target/1.b', 'indicators': []}]}\n"
     ]
    }
   ],
   "source": [
    "url = \"https://unstats.un.org/SDGAPI/v1/sdg/Goal/List?includechildren=true\"\n",
    "req = request.Request(url)\n",
    "response = urlopen.urlopen(req)\n",
    "response_bytes = response.read()\n",
    "json_data = json.loads(response_bytes.decode(\"UTF-8\"))\n",
    "\n",
    "# show an example from the metadata\n",
    "if (json_data):\n",
    "    print(json_data[0])"
   ]
  },
  {
   "cell_type": "markdown",
   "metadata": {},
   "source": [
    "### Connect to the Open Data Group\n",
    "\n",
    "This will be the primary group that the data is shared with to allow sharing with the Open Data Site"
   ]
  },
  {
   "cell_type": "code",
   "execution_count": null,
   "metadata": {
    "collapsed": true
   },
   "outputs": [],
   "source": [
    "open_data_group_id = '15c1671f5fbc4a00b1a359d51ea6a546'\n",
    "open_data_group = gis_online_connection.groups.get(open_data_group_id)\n",
    "display(open_data_group)"
   ]
  },
  {
   "cell_type": "markdown",
   "metadata": {},
   "source": [
    "### Process the SDG Infomation\n",
    "\n",
    "Allow the SDG information to be processed either as a batch of by individual series of infomation"
   ]
  },
  {
   "cell_type": "code",
   "execution_count": null,
   "metadata": {
    "collapsed": true
   },
   "outputs": [],
   "source": [
    "process_sdg_information()"
   ]
  },
  {
   "cell_type": "markdown",
   "metadata": {},
   "source": [
    "### processSDGInfomation\n",
    "This function is where the majority of the work will happen. Here is a basic outline of the steps we will take:\n",
    "- Build out the item card infomation from the Metadata API and addtional information\n",
    "- Create an Group in ArcGIS Online for the Goal if needed, otherwise update the property information\n",
    "- If exists, update and move to Open Data Group\n",
    "- Publish the CSV File (if the property_update_only flag is False)\n",
    "- If it doesn't exist, publish as a new Item then move to the Open Data Group\n",
    "\n",
    "##### goal_code (default None):  Indvidual goal code.  This will process this goal and all the children targets as well\n",
    "process_sdg_information(goal_code='1')\n",
    "##### indicator_code (default None):  Individual indicator code.  This will process this indicator and all the children targets as well\n",
    "process_sdg_information(goal_code='1', indicator_code='1.1')\n",
    "##### target_code (default None):  Individual Target code.  This will process this target code only\n",
    "process_sdg_information(goal_code='1', indicator_code='1.1', target_code='1.1.1')\n",
    "##### series_code (default None):  Individual Series code.  This will process this series code only\n",
    "process_sdg_information(goal_code='1', indicator_code='1.1', target_code='1.1.1', series_code='SI_POV_DAY1')\n",
    "##### property_update_only (default False):  If True this will only update the metadata in the item card and will not process the actual data sources\n",
    "process_sdg_information(goal_code='1', indicator_code='1.1', target_code='1.1.1', series_code='SI_POV_DAY1', property_update_only=True)"
   ]
  },
  {
   "cell_type": "code",
   "execution_count": null,
   "metadata": {
    "collapsed": true
   },
   "outputs": [],
   "source": [
    "def process_sdg_information(goal_code=None, indicator_code=None, target_code=None, series_code=None,\n",
    "                            property_update_only=False):\n",
    "    try:\n",
    "        sdg_metadata = get_metadata()\n",
    "        for goal in json_data:\n",
    "            # Determine if we are processing this query Only process a specific series code\n",
    "            if goal_code is not None and int(goal[\"code\"]) != goal_code:\n",
    "                continue\n",
    "\n",
    "            # Get the Thumbnail from the SDG API\n",
    "            for goal_item in sdg_metadata:\n",
    "                if goal_item[\"goal\"] == int(goal[\"code\"]):\n",
    "                    goal_metadata = goal_item\n",
    "                    break\n",
    "\n",
    "            if goal_metadata is None:\n",
    "                continue\n",
    "\n",
    "            # if a thumbnail was not found use a default thumbnail for icon\n",
    "            if \"icon_url_sq\" in goal_metadata:\n",
    "                thumbnail = goal_metadata[\"icon_url_sq\"]\n",
    "            else:\n",
    "                thumbnail = \"http://undesa.maps.arcgis.com/sharing/rest/content/items/aaa0678dba0a466e8efef6b9f11775fe/data\"\n",
    "\n",
    "            # Create a Group for the Goal\n",
    "            group_goal_properties = dict()\n",
    "            group_goal_properties[\"title\"] = \"SDG \" + goal[\"code\"]\n",
    "            group_goal_properties[\"snippet\"] = goal[\"title\"]\n",
    "            group_goal_properties[\"description\"] = goal[\"description\"]\n",
    "            group_goal_properties[\"tags\"] = [group_goal_properties[\"title\"]]\n",
    "            group_goal_properties[\"thumbnail\"] = thumbnail\n",
    "\n",
    "            # Iterate through each of the targets\n",
    "            for target in goal[\"targets\"]:\n",
    "                # Determine if we are processing this query Only process a specific target code\n",
    "                if target_code is not None and int(target[\"code\"]) != target_code:\n",
    "                    continue\n",
    "\n",
    "                group_target_properties = dict()\n",
    "                group_target_properties[\"tags\"] = [\"Target \" + target[\"code\"]]\n",
    "                open_data_group.update(tags=open_data_group[\"tags\"] + group_target_properties[\"tags\"])\n",
    "\n",
    "                # Iterate through each of the indicators\n",
    "                for indicator in target[\"indicators\"]:\n",
    "                    # Allow processing a single indicator\n",
    "                    if indicator_code and not indicator[\"code\"] == indicator_code:\n",
    "                        continue\n",
    "\n",
    "                    process_indicator = dict()\n",
    "                    process_indicator[\"name\"] = \"Indicator \" + indicator[\"code\"]  # eg. Indicator 1.1.1\n",
    "                    process_indicator[\"tags\"] = [process_indicator[\"name\"]]\n",
    "\n",
    "                    # Append the keyword tags from the metadata as well\n",
    "                    open_data_group.update(tags=open_data_group[\"tags\"] + process_indicator[\"tags\"])\n",
    "\n",
    "                    process_indicator[\"snippet\"] = indicator[\"code\"] + \": \" + indicator[\"description\"]\n",
    "                    process_indicator[\"description\"] = \"<p><strong>Indicator \" + indicator[\"code\"] + \": </strong>\" + \\\n",
    "                                                       indicator[\n",
    "                                                           \"description\"] + \"</p>\" + \"</p><p><strong>Target \" + target[\n",
    "                                                           \"code\"] + \": </strong>\" + target[\n",
    "                                                           \"description\"] + \"</p>\" + \"<p>\" + goal[\n",
    "                                                           \"description\"] + \"</p>\"\n",
    "\n",
    "                    process_indicator[\"credits\"] = \"UNSD\"\n",
    "                    process_indicator[\"thumbnail\"] = thumbnail\n",
    "\n",
    "                    # Iterate through each of the series\n",
    "                    for series in indicator[\"series\"]:\n",
    "                        # Determine if we are processing this query Only process a specific series code\n",
    "                        if indicator_code and not (series[\"code\"] == series_code or series_code is None):\n",
    "                            continue\n",
    "\n",
    "                        # Build the metadata properties for the item card\n",
    "                        item_properties = dict()\n",
    "                        item_properties[\"title\"] = process_indicator[\"name\"] + \" (\" + series[\"code\"] + \"): \" + series[\n",
    "                            \"description\"]\n",
    "                        if not series[\"description\"]:\n",
    "                            series[\"description\"] = series[\"code\"]\n",
    "                        snippet = series[\"code\"] + \": \" + series[\"description\"]\n",
    "                        item_properties[\"snippet\"] = (snippet[:250] + \"..\") if len(snippet) > 250 else snippet\n",
    "                        item_properties[\"description\"] = \"<p><strong>Series \" + series[\"code\"] + \": </strong>\" + series[\n",
    "                            \"description\"] + \"</p>\" + process_indicator[\"description\"] + \\\n",
    "                                                         \"<p><strong>Release Version</strong>: \" + series[\"release\"]\n",
    "                        final_tags = group_goal_properties[\"tags\"] + group_target_properties[\"tags\"] + \\\n",
    "                                     process_indicator[\"tags\"]\n",
    "                        final_tags.extend(get_series_tags(goal_metadata=goal_metadata, indicator_code=indicator[\"code\"],\n",
    "                                                          target_code=target[\"code\"], series_code=series[\"code\"]))\n",
    "                        # Append the version number to the tags\n",
    "                        final_tags.append(series[\"release\"])\n",
    "                        item_properties[\"tags\"] = final_tags\n",
    "\n",
    "                        # Add this item to ArcGIS Online\n",
    "                        print(\"Processing series code:\", indicator[\"code\"], series[\"code\"])\n",
    "                        try:\n",
    "                            if property_update_only:\n",
    "                                online_item = find_online_item(item_properties[\"title\"])\n",
    "                                if online_item is None:\n",
    "                                    failed_series.append(series[\"code\"])\n",
    "                                else:\n",
    "                                    # Update the Item Properties from the item_properties\n",
    "                                    online_item.update(item_properties=item_properties, thumbnail=thumbnail)\n",
    "                            else:\n",
    "                                online_item = publish_csv(indicator, series, item_properties=item_properties,\n",
    "                                                          thumbnail=thumbnail,\n",
    "                                                          property_update_only=property_update_only)\n",
    "\n",
    "                            if online_item is not None:\n",
    "                                display(online_item)\n",
    "                                # Share this content with the open data group\n",
    "                                online_item.share(everyone=False, org=True, groups=open_data_group[\"id\"],\n",
    "                                                  allow_members_to_edit=False)\n",
    "                                # Update the Group Information with Data from the Indicator and targets\n",
    "                                #TODO:  Get clean set of tags open_data_group.update(tags=open_data_group[\"tags\"] + [series[\"code\"]])\n",
    "                            else:\n",
    "                                failed_series.append(series[\"code\"])\n",
    "                        except:\n",
    "                            traceback.print_exc()\n",
    "                            print(\"Failed to process series code:\", indicator[\"code\"], series[\"code\"])\n",
    "                            failed_series.append(series[\"code\"])\n",
    "                            return\n",
    "\n",
    "    except:\n",
    "        traceback.print_exc()"
   ]
  },
  {
   "cell_type": "markdown",
   "metadata": {},
   "source": [
    "### Analyze the CSV file \n",
    "Using the ArcGIS REST API `analyze` endpoint, we can prepare the CSV file we are going to use before publishing it to ArcGIS Online. This will help us by returning information about the file inlcuding fields as well as sample records. This step will also lead into future steps in the publishing process.\n",
    "\n",
    "More info about the analyze endpoint can be found [here](https://developers.arcgis.com/rest/users-groups-and-items/analyze.htm)."
   ]
  },
  {
   "cell_type": "code",
   "execution_count": 20,
   "metadata": {
    "collapsed": true
   },
   "outputs": [],
   "source": [
    "def analyze_csv(item_id):\n",
    "    try:\n",
    "        sharing_url = gis_online_connection.content.gis.url + \"/sharing/rest/content/features/analyze\"\n",
    "        analyze_params = {'f': 'json', 'token': gis_online_connection.con.token,\n",
    "                          'sourceLocale': 'en-us',\n",
    "                          'filetype': 'csv', 'itemid': item_id}\n",
    "        r = requests.post(sharing_url, data=analyze_params)\n",
    "        analyze_json_data = json.loads(r.content.decode(\"UTF-8\"))\n",
    "        for field in analyze_json_data[\"publishParameters\"][\"layerInfo\"][\"fields\"]:\n",
    "            field[\"alias\"] = set_field_alias(field[\"name\"])\n",
    "\n",
    "            # Indicator is coming in as a date Field make the correct\n",
    "            if field[\"name\"] == \"indicator\":\n",
    "                field[\"type\"] = \"esriFieldTypeString\"\n",
    "                field[\"sqlType\"] = \"sqlTypeNVarchar\"\n",
    "\n",
    "        # set up some of the layer information for display\n",
    "        analyze_json_data[\"publishParameters\"][\"layerInfo\"][\"displayField\"] = \"geoAreaName\"\n",
    "        return analyze_json_data[\"publishParameters\"]\n",
    "    except:\n",
    "        print(\"Unexpected error:\", sys.exc_info()[0])\n",
    "        return None\n",
    "\n"
   ]
  },
  {
   "cell_type": "markdown",
   "metadata": {},
   "source": [
    "### Publish the CSV file\n",
    "This function is where the majority of the work will happen. Here is a basic outline of the steps we will take:\n",
    "- Check to see if a CSV file exists for this series of data\n",
    "- Determine if this CSV has already been published\n",
    "- If the CSV has already been published the script will:\n",
    "  - Update the item properties in case they have changed\n",
    "  - Move to Open Data Folder under the owner content\n",
    "- If the CSV has not already been published the script will:\n",
    "  - Add the file to ArcGIS Online\n",
    "  - Run the analyze tool to get the publish properties\n",
    "  - Publish the CSV file to ArcGIS Online\n",
    "- Move to the Open Data Folder"
   ]
  },
  {
   "cell_type": "code",
   "execution_count": 19,
   "metadata": {
    "collapsed": true
   },
   "outputs": [],
   "source": [
    "def publish_csv(indicator, series, item_properties, thumbnail, property_update_only=False):\n",
    "    # Do we need to publish the hosted feature service for this layer\n",
    "    try:\n",
    "        series_title = series[\"code\"] + \"_\" + indicator[\"code\"].replace(\".\",\"\") + \"_\" + online_username + \"_\" + series[\"release\"].replace('.', '')\n",
    "        file = os.path.join(data_dir, series[\"code\"] + \"_cube.pivot.csv\")\n",
    "        if os.path.isfile(file):\n",
    "            csv_item_properties = copy.deepcopy(item_properties)\n",
    "            csv_item_properties[\"title\"] = series_title\n",
    "            csv_item_properties[\"type\"] = \"CSV\"\n",
    "            csv_item_properties[\"url\"] = \"\"\n",
    "\n",
    "            # Does this CSV already exist\n",
    "            csv_item = find_online_item(csv_item_properties[\"title\"])\n",
    "            if csv_item is None:\n",
    "                print('Adding CSV File to ArcGIS Online....')\n",
    "                csv_item = gis_online_connection.content.add(item_properties=csv_item_properties, thumbnail=thumbnail,\n",
    "                                                             data=file)\n",
    "                if csv_item is None:\n",
    "                    return None\n",
    "\n",
    "                # publish the layer if it was not found\n",
    "                print('Analyze Feature Service....')\n",
    "                publish_parameters = analyze_csv(csv_item[\"id\"])\n",
    "                if publish_parameters is None:\n",
    "                    return None\n",
    "                else:\n",
    "                    publish_parameters[\"name\"] = csv_item_properties[\"title\"]\n",
    "                    publish_parameters[\"layerInfo\"][\"name\"] = csv_item_properties[\"snippet\"]\n",
    "\n",
    "                    print('Publishing Feature Service....')\n",
    "                    csv_lyr = csv_item.publish(publish_parameters=publish_parameters, overwrite=True)\n",
    "            else:\n",
    "                # Update the Data file for the CSV File\n",
    "                csv_item.update(item_properties=csv_item_properties, thumbnail=thumbnail, data=file)\n",
    "                # Find the Feature Service and update the properties\n",
    "                csv_lyr = find_online_item(item_properties[\"title\"])\n",
    "\n",
    "            # Move to the Open Data Folder\n",
    "            if csv_item[\"ownerFolder\"] is None:\n",
    "                print('Moving CSV to Open Data Folder')\n",
    "                csv_item.move(\"Open Data\")\n",
    "\n",
    "            if csv_lyr is not None:\n",
    "                print('Updating Feature Service metadata....')\n",
    "                csv_lyr.update(item_properties=item_properties, thumbnail=thumbnail)\n",
    "\n",
    "                if csv_lyr[\"ownerFolder\"] is None:\n",
    "                    print('Moving Feature Service to Open Data Folder')\n",
    "                    csv_lyr.move(\"Open Data\")\n",
    "\n",
    "                return csv_lyr\n",
    "            else:\n",
    "                return None\n",
    "        else:\n",
    "            return None\n",
    "    except:\n",
    "        print(\"Unexpected error:\", sys.exc_info()[0])\n",
    "        return None"
   ]
  },
  {
   "cell_type": "markdown",
   "metadata": {},
   "source": [
    "### Find the Online Item\n",
    "General function to find a given item in ArcGIS Online by the Owner and by the Title"
   ]
  },
  {
   "cell_type": "code",
   "execution_count": null,
   "metadata": {
    "collapsed": true
   },
   "outputs": [],
   "source": [
    "def find_online_item(title):\n",
    "    try:\n",
    "        # Search for this ArcGIS Online Item\n",
    "        query_string = \"title:'{}' AND owner:{}\".format(title, online_username)\n",
    "        print('Searching for ' + title)\n",
    "        search_results = gis_online_connection.content.search(query_string)\n",
    "\n",
    "        if search_results:\n",
    "            for search_result in search_results:\n",
    "                if search_result[\"title\"] == title:\n",
    "                    diplay(search_result)\n",
    "                    return search_result\n",
    "                \n",
    "\n",
    "        return None\n",
    "    except:\n",
    "        print(\"Unexpected error:\", sys.exc_info()[0])\n",
    "        return None"
   ]
  },
  {
   "cell_type": "markdown",
   "metadata": {},
   "source": [
    "### Collect SDG Metadata\n",
    "The Metadata json is located within the data folder and downloaded with the code"
   ]
  },
  {
   "cell_type": "code",
   "execution_count": 4,
   "metadata": {
    "collapsed": true
   },
   "outputs": [],
   "source": [
    "ef get_metadata():\n",
    "    try:\n",
    "        metadata_json_data = json.loads(metadata_dir + \"/metadataAPI.json\")\n",
    "        return metadata_json_data\n",
    "    except:\n",
    "        return None"
   ]
  },
  {
   "cell_type": "markdown",
   "metadata": {},
   "source": [
    "### Collect SDG Series Metadata\n",
    "Information such as standard Tags can also be retrieved from the SDG Metadata API"
   ]
  },
  {
   "cell_type": "code",
   "execution_count": null,
   "metadata": {
    "collapsed": true
   },
   "outputs": [],
   "source": [
    "def get_series_tags(goal_metadata=None, indicator_code=None, target_code=None, series_code=None):\n",
    "    try:\n",
    "        for target in goal_metadata[\"targets\"]:\n",
    "            if target[\"target\"] == target_code:\n",
    "                for indicator in target[\"indicators\"]:\n",
    "                    if indicator[\"indicator\"] == indicator_code:\n",
    "                        for series in indicator[\"series\"]:\n",
    "                            if series[\"series\"] == series_code:\n",
    "                                return series[\"tags\"]\n",
    "        return []\n",
    "    except:\n",
    "        traceback.print_exc()\n",
    "        return []"
   ]
  },
  {
   "cell_type": "markdown",
   "metadata": {},
   "source": [
    "### Get Field Aliases\n",
    "Translate the field names and apply a more friendly user name for the alias"
   ]
  },
  {
   "cell_type": "code",
   "execution_count": null,
   "metadata": {
    "collapsed": true
   },
   "outputs": [],
   "source": [
    "def set_field_alias(field_name):\n",
    "    if field_name == \"series_release\":\n",
    "        return \"Series Release\"\n",
    "    if field_name == \"series_code\":\n",
    "        return \"Series Code\"\n",
    "    if field_name == \"series_description\":\n",
    "        return \"Series Description\"\n",
    "    if field_name == \"geoAreaCode\":\n",
    "        return \"Geographic Area Code\"\n",
    "    if field_name == \"geoAreaName\":\n",
    "        return \"Geographic Area Name\"\n",
    "    if field_name == \"Freq\":\n",
    "        return \"Frequency\"\n",
    "    if field_name == \"latest_year\":\n",
    "        return \"Latest Year\"\n",
    "    if field_name == \"latest_value\":\n",
    "        return \"Latest Value\"\n",
    "    if field_name == \"latest_source\":\n",
    "        return \"Latest Source\"\n",
    "    if field_name == \"latest_nature\":\n",
    "        return \"Latest Nature\"\n",
    "    if field_name == \"last_5_years_mean\":\n",
    "        return \"Mean of the Last 5 Years\"\n",
    "    if field_name == \"ISO3CD\":\n",
    "        return \"ISO3 Code\"\n",
    "    else:\n",
    "        return field_name.capitalize().replace(\"_\", \" \")"
   ]
  },
  {
   "cell_type": "markdown",
   "metadata": {},
   "source": [
    "### Create a Group for each SDG Goal  (Deprecated)\n",
    "You can create a Group within your ArcGIS Online Organization for each SDG. As you publish Items, you can share them to the relevant Group(s). This function will create the Group, query the SDG Metadata API to return the Title, Summary, Description, Tags, and Thumbnail for that particular SDG."
   ]
  },
  {
   "cell_type": "code",
   "execution_count": 9,
   "metadata": {
    "collapsed": true
   },
   "outputs": [],
   "source": [
    "def create_group(group_info):\n",
    "    try:\n",
    "        # Add the Service Definition to the Enterprise site\n",
    "        item_properties = dict({\n",
    "            \"title\": group_info[\"title\"],\n",
    "            \"snippet\": group_info[\"snippet\"],\n",
    "            \"description\": group_info[\"description\"],\n",
    "            \"tags\": \", \".join([group_info[\"title\"], \"Open Data\", \"Hub\"]),\n",
    "            \"thumbnail\": group_info[\"thumbnail\"],\n",
    "            \"isOpenData\": True,\n",
    "            \"access\": \"public\",\n",
    "            \"isInvitationOnly\": True,\n",
    "            \"protected\": True\n",
    "        })\n",
    "\n",
    "        # Check if there is a group here\n",
    "        query_string = \"title:'{}' AND owner:{}\".format(group_info[\"title\"], online_username)\n",
    "        search_results = gis_online_connection.groups.search(query_string)\n",
    "        if not search_results:\n",
    "            # Update the group information\n",
    "            group = gis_online_connection.groups.create_from_dict(item_properties)\n",
    "            display(group)\n",
    "            return group\n",
    "        else:\n",
    "            for search_result in search_results:\n",
    "                if search_result[\"title\"] == group_info[\"title\"]:\n",
    "                    group_found = True\n",
    "                    search_result.update(title=group_info[\"title\"], tags=group_info[\"tags\"],\n",
    "                                         description=group_info[\"description\"],\n",
    "                                         snippet=group_info[\"snippet\"], access=\"Public\",\n",
    "                                         thumbnail=group_info[\"thumbnail\"])\n",
    "                    return search_result\n",
    "            # the group was not in the returned search results so create now\n",
    "            group = gis_online_connection.groups.create_from_dict(item_properties)\n",
    "            display(group)\n",
    "            return  group\n",
    "    except:\n",
    "        traceback.print_exc()"
   ]
  },
  {
   "cell_type": "markdown",
   "metadata": {},
   "source": [
    "### Clean out the open data site\n",
    "This step would generally only be used during testing and does not need to be called each time"
   ]
  },
  {
   "cell_type": "code",
   "execution_count": null,
   "metadata": {
    "collapsed": true
   },
   "outputs": [],
   "source": [
    "def cleanup_site():\n",
    "    user = gis_online_connection.users.get(user)\n",
    "    user_items = user.items(folder='Open Data', max_items=800)\n",
    "    for item in user_items:\n",
    "        print('deleting item ' + item.title)\n",
    "        item.delete()\n",
    "\n",
    "    return"
   ]
  }
 ],
 "metadata": {
  "celltoolbar": "Raw Cell Format",
  "kernelspec": {
   "display_name": "Python 3",
   "language": "python",
   "name": "python3"
  },
  "language_info": {
   "codemirror_mode": {
    "name": "ipython",
    "version": 3
   },
   "file_extension": ".py",
   "mimetype": "text/x-python",
   "name": "python",
   "nbconvert_exporter": "python",
   "pygments_lexer": "ipython3",
   "version": "3.6.2"
  }
 },
 "nbformat": 4,
 "nbformat_minor": 2
}
