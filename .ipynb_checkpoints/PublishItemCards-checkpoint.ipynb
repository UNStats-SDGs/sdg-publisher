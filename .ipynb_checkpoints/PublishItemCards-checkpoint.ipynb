{
 "cells": [
  {
   "cell_type": "markdown",
   "metadata": {},
   "source": [
    "# Process the SDG Data Items\n",
    "The purpose of this notebook is to illustrate how to use the SDG Metadata API in conjunction with local CSV files to publish spatial data to ArcGIS Online.  While this example has some elements that are specific to the UNSD workflow it is generic enough to show how to loop and use the API for publishing.  You may to need add or update workflows around publishing to meet your exact needs and working environments.\n",
    "\n",
    "# Installation & Requirements\n",
    "Data Package python lib\n",
    "+ pip install ipdb\n",
    "+ pip install requests\n",
    "+ pip install urllib3\n",
    "\n",
    "\n",
    "# ArcGIS API for Python\n",
    "Install & Setup Guide here: https://developers.arcgis.com/python/guide/install-and-set-up "
   ]
  },
  {
   "cell_type": "markdown",
   "metadata": {},
   "source": [
    "### Import python libraries"
   ]
  },
  {
   "cell_type": "code",
   "execution_count": 10,
   "metadata": {
    "collapsed": true
   },
   "outputs": [],
   "source": [
    "import os, re, json, traceback, sys, copy, urllib\n",
    "import urllib.request as urlopen\n",
    "import urllib.request as request\n",
    "import requests\n",
    "\n",
    "from arcgis.gis import GIS\n",
    "\n",
    "import time\n",
    "from datetime import datetime\n",
    "\n",
    "# used to prompt for user input\n",
    "# when using this script internally, you may remove this and simply hard code in your username and password\n",
    "import getpass\n",
    "\n",
    "# this helps us do some debugging within the Python Notebook\n",
    "# another optional component\n",
    "from IPython.display import display"
   ]
  },
  {
   "cell_type": "markdown",
   "metadata": {},
   "source": [
    "### Create a connection to your ArcGIS Online Organization\n",
    "This will rely on using the ArcGIS API for python to connect to your ArcGIS Online Organization to publish and manage data.  For more information about this python library visit the developer resources at [https://developers.arcgis.com/python/](https://developers.arcgis.com/python/)"
   ]
  },
  {
   "cell_type": "code",
   "execution_count": 11,
   "metadata": {
    "scrolled": true
   },
   "outputs": [
    {
     "name": "stdout",
     "output_type": "stream",
     "text": [
      "Username: tbutcher_undesa\n",
      "Password: ········\n",
      "Logged in as: tbutcher_undesa\n"
     ]
    }
   ],
   "source": [
    "online_username = input('Username: ')\n",
    "online_password = getpass.getpass('Password: ')\n",
    "\n",
    "online_connection = \"https://www.arcgis.com\"\n",
    "gis_online_connection = GIS(online_connection, online_username, online_password)\n",
    "\n",
    "user = gis_online_connection.properties.user.username\n",
    "print ('Logged in as: ' + user)\n",
    "\n",
    "data_dir = \"FIS4SDG/csv/\"\n",
    "metadata_dir = \"FIS4SDG/\"\n",
    "failed_series = []"
   ]
  },
  {
   "cell_type": "markdown",
   "metadata": {},
   "source": [
    "### Get the JSON Data from the UN SDG Metadata API\n",
    "\n",
    "The SDG Metadata API is designed to  retrieve information and metadata on the [Sustainable Development Goals](http://www.un.org/sustainabledevelopment/sustainable-development-goals/).\n",
    "\n",
    "The Inter-agency Expert Group on SDG Indicators released a series of PDFs that includes metadata for each Indicator. Those PDFs can be downloaded [here](http://unstats.un.org/sdgs/iaeg-sdgs/metadata-compilation/).\n",
    "\n",
    "The metadata API is an Open Source project maintained by the UN Statisitics division and be be accessed on [github](https://github.com/UNStats-SDGs/sdg-metadata-api)"
   ]
  },
  {
   "cell_type": "code",
   "execution_count": 12,
   "metadata": {},
   "outputs": [
    {
     "name": "stdout",
     "output_type": "stream",
     "text": [
      "{'code': '1', 'title': 'End poverty in all its forms everywhere', 'description': 'Goal 1 calls for an end to poverty in all its manifestations, including extreme poverty, over the next 15 years. All people everywhere, including the poorest and most vulnerable, should enjoy a basic standard of living and social protection benefits.', 'uri': '/v1/sdg/Goal/1', 'targets': [{'goal': None, 'code': '1.1', 'title': 'By 2030, eradicate extreme poverty for all people everywhere, currently measured as people living on less than $1.25 a day', 'description': 'By 2030, eradicate extreme poverty for all people everywhere, currently measured as people living on less than $1.25 a day', 'uri': '/v1/Target/1.1', 'indicators': [{'goal': None, 'target': None, 'code': '1.1.1', 'description': 'Proportion of population below the international poverty line, by sex, age, employment status and geographical location (urban/rural)', 'tier': '1', 'uri': '/v1/Indicator/1.1.1', 'series': [{'goal': None, 'target': None, 'indicator': None, 'release': '2017.Q2.G.01', 'code': 'SI_POV_DAY1', 'description': 'Proportion of population below the international poverty line of US$1.90 per day, total (%)', 'uri': '/v1/sdg/Series/SI_POV_DAY1'}, {'goal': None, 'target': None, 'indicator': None, 'release': '2017.Q2.G.01', 'code': 'SI_POV_EMP1', 'description': 'Proportion of employed population below the international poverty line of US$1.90 per day (the working poor), total and by sex, age (%)', 'uri': '/v1/sdg/Series/SI_POV_EMP1'}]}]}, {'goal': None, 'code': '1.2', 'title': 'By 2030, reduce at least by half the proportion of men, women and children of all ages living in poverty in all its dimensions according to national definitions', 'description': 'By 2030, reduce at least by half the proportion of men, women and children of all ages living in poverty in all its dimensions according to national definitions', 'uri': '/v1/Target/1.2', 'indicators': [{'goal': None, 'target': None, 'code': '1.2.1', 'description': 'Proportion of population living below the national poverty line, by sex and age', 'tier': '1', 'uri': '/v1/Indicator/1.2.1', 'series': [{'goal': None, 'target': None, 'indicator': None, 'release': '2017.Q2.G.01', 'code': 'SI_POV_NAHC', 'description': 'Proportion of population living below the national poverty line, total and by rural/urban (%)', 'uri': '/v1/sdg/Series/SI_POV_NAHC'}]}]}, {'goal': None, 'code': '1.3', 'title': 'Implement nationally appropriate social protection systems and measures for all, including floors, and by 2030 achieve substantial coverage of the poor and the vulnerable', 'description': 'Implement nationally appropriate social protection systems and measures for all, including floors, and by 2030 achieve substantial coverage of the poor and the vulnerable', 'uri': '/v1/Target/1.3', 'indicators': [{'goal': None, 'target': None, 'code': '1.3.1', 'description': 'Proportion of population covered by social protection floors/systems, by sex, distinguishing children, unemployed persons, older persons, persons with disabilities, pregnant women, newborns, work-injury victims and the poor and the vulnerable', 'tier': '1', 'uri': '/v1/Indicator/1.3.1', 'series': [{'goal': None, 'target': None, 'indicator': None, 'release': '2017.Q2.G.01', 'code': 'SI_COV_MATNL', 'description': 'Proportion of mothers receiving maternity benefits and benefits for newborns, total (%)', 'uri': '/v1/sdg/Series/SI_COV_MATNL'}, {'goal': None, 'target': None, 'indicator': None, 'release': '2017.Q2.G.01', 'code': 'SI_COV_POOR', 'description': 'Proportion of poor population covered by social protection floors/systems, total (%)', 'uri': '/v1/sdg/Series/SI_COV_POOR'}, {'goal': None, 'target': None, 'indicator': None, 'release': '2017.Q2.G.01', 'code': 'SI_COV_SOCAST', 'description': 'Proportion of population covered by social assistance programs, total (%)', 'uri': '/v1/sdg/Series/SI_COV_SOCAST'}, {'goal': None, 'target': None, 'indicator': None, 'release': '2017.Q2.G.01', 'code': 'SI_COV_SOCASTPQ', 'description': 'Proportion of poorest quintile population covered by social assistance programs, total (%)', 'uri': '/v1/sdg/Series/SI_COV_SOCASTPQ'}, {'goal': None, 'target': None, 'indicator': None, 'release': '2017.Q2.G.01', 'code': 'SI_COV_SOCINS', 'description': 'Proportion of population covered by social insurance programs, total (%)', 'uri': '/v1/sdg/Series/SI_COV_SOCINS'}, {'goal': None, 'target': None, 'indicator': None, 'release': '2017.Q2.G.01', 'code': 'SI_COV_CHLD', 'description': 'Proportion of children covered by social protection, total (%)', 'uri': '/v1/sdg/Series/SI_COV_CHLD'}, {'goal': None, 'target': None, 'indicator': None, 'release': '2017.Q2.G.01', 'code': 'SI_COV_SOCINSPQ', 'description': 'Proportion of poorest quintile population covered by social insurance programs, total (%)', 'uri': '/v1/sdg/Series/SI_COV_SOCINSPQ'}, {'goal': None, 'target': None, 'indicator': None, 'release': '2017.Q2.G.01', 'code': 'SI_COV_UEMP', 'description': 'Proportion of unemployed population receiving unemployment benefits, total and by sex (%)', 'uri': '/v1/sdg/Series/SI_COV_UEMP'}, {'goal': None, 'target': None, 'indicator': None, 'release': '2017.Q2.G.01', 'code': 'SI_COV_VULN', 'description': 'Proportion of vulnerable population covered by social protection floors/systems, total (%)', 'uri': '/v1/sdg/Series/SI_COV_VULN'}, {'goal': None, 'target': None, 'indicator': None, 'release': '2017.Q2.G.01', 'code': 'SI_COV_WKINJRY', 'description': 'Proportion of employed population covered in the event of work injury, total and by sex (%)', 'uri': '/v1/sdg/Series/SI_COV_WKINJRY'}, {'goal': None, 'target': None, 'indicator': None, 'release': '2017.Q2.G.01', 'code': 'SI_COV_BENFTS', 'description': 'Proportion of population covered by at least one social protection floor/system, total (%)', 'uri': '/v1/sdg/Series/SI_COV_BENFTS'}, {'goal': None, 'target': None, 'indicator': None, 'release': '2017.Q2.G.01', 'code': 'SI_COV_DISAB', 'description': 'Proportion of population with severe disabilities collecting disability social protection benefits, total (%)', 'uri': '/v1/sdg/Series/SI_COV_DISAB'}, {'goal': None, 'target': None, 'indicator': None, 'release': '2017.Q2.G.01', 'code': 'SI_COV_LMKT', 'description': 'Proportion of population covered by labour market programs, total (%)', 'uri': '/v1/sdg/Series/SI_COV_LMKT'}, {'goal': None, 'target': None, 'indicator': None, 'release': '2017.Q2.G.01', 'code': 'SI_COV_LMKTPQ', 'description': 'Proportion of poorest quintile population covered by labour market programs, total (%)', 'uri': '/v1/sdg/Series/SI_COV_LMKTPQ'}, {'goal': None, 'target': None, 'indicator': None, 'release': '2017.Q2.G.01', 'code': 'SI_COV_PENSN', 'description': 'Proportion of population above retirement age receiving a pension, total and by sex (%)', 'uri': '/v1/sdg/Series/SI_COV_PENSN'}]}]}, {'goal': None, 'code': '1.4', 'title': 'By 2030, ensure that all men and women, in particular the poor and the vulnerable, have equal rights to economic resources, as well as access to basic services, ownership and control over land and other forms of property, inheritance, natural resources, appropriate new technology and financial services, including microfinance', 'description': 'By 2030, ensure that all men and women, in particular the poor and the vulnerable, have equal rights to economic resources, as well as access to basic services, ownership and control over land and other forms of property, inheritance, natural resources, appropriate new technology and financial services, including microfinance', 'uri': '/v1/Target/1.4', 'indicators': []}, {'goal': None, 'code': '1.5', 'title': 'By 2030, build the resilience of the poor and those in vulnerable situations and reduce their exposure and vulnerability to climate-related extreme events and other economic, social and environmental shocks and disasters', 'description': 'By 2030, build the resilience of the poor and those in vulnerable situations and reduce their exposure and vulnerability to climate-related extreme events and other economic, social and environmental shocks and disasters', 'uri': '/v1/Target/1.5', 'indicators': [{'goal': None, 'target': None, 'code': '1.5.1', 'description': 'Number of deaths, missing persons and directly affected persons attributed to disasters per 100,000 population', 'tier': '1', 'uri': '/v1/Indicator/1.5.1', 'series': [{'goal': None, 'target': None, 'indicator': None, 'release': '2017.Q2.G.01', 'code': 'VC_DSR_MISS', 'description': 'Number of missing persons due to disaster, total (number)', 'uri': '/v1/sdg/Series/VC_DSR_MISS'}, {'goal': None, 'target': None, 'indicator': None, 'release': '2017.Q2.G.01', 'code': 'VC_DSR_AFFCT', 'description': 'Number of people affected by disaster, total (number)', 'uri': '/v1/sdg/Series/VC_DSR_AFFCT'}, {'goal': None, 'target': None, 'indicator': None, 'release': '2017.Q2.G.01', 'code': 'VC_DSR_MORT', 'description': 'Number of deaths due to disaster, total (number)', 'uri': '/v1/sdg/Series/VC_DSR_MORT'}]}, {'goal': None, 'target': None, 'code': '1.5.2', 'description': 'Direct economic loss attributed to disasters in relation to global gross domestic product (GDP)', 'tier': '1', 'uri': '/v1/Indicator/1.5.2', 'series': [{'goal': None, 'target': None, 'indicator': None, 'release': '2017.Q2.G.01', 'code': 'VC_DSR_GDPLS', 'description': 'Direct economic loss attributed to disasters, total (millions of current United States dollars)', 'uri': '/v1/sdg/Series/VC_DSR_GDPLS'}]}, {'goal': None, 'target': None, 'code': '1.5.3', 'description': 'Number of countries that adopt and implement national disaster risk reduction strategies in line with the Sendai Framework for Disaster Risk Reduction 2015-2030', 'tier': '1', 'uri': '/v1/Indicator/1.5.3', 'series': [{'goal': None, 'target': None, 'indicator': None, 'release': '2017.Q2.G.01', 'code': 'SG_DSR_LEGREG', 'description': 'Countries with legislative and/or regulatory provisions been made for managing disaster risk (1 = YES; 0 = NO)', 'uri': '/v1/sdg/Series/SG_DSR_LEGREG'}]}]}, {'goal': None, 'code': '1.a', 'title': 'Ensure significant mobilization of resources from a variety of sources, including through enhanced development cooperation, in order to provide adequate and predictable means for developing countries, in particular least developed countries, to implement programmes and policies to end poverty in all its dimensions', 'description': 'Ensure significant mobilization of resources from a variety of sources, including through enhanced development cooperation, in order to provide adequate and predictable means for developing countries, in particular least developed countries, to implement programmes and policies to end poverty in all its dimensions', 'uri': '/v1/Target/1.a', 'indicators': []}, {'goal': None, 'code': '1.b', 'title': 'Create sound policy frameworks at the national, regional and international levels, based on pro-poor and gender-sensitive development strategies, to support accelerated investment in poverty eradication actions', 'description': 'Create sound policy frameworks at the national, regional and international levels, based on pro-poor and gender-sensitive development strategies, to support accelerated investment in poverty eradication actions', 'uri': '/v1/Target/1.b', 'indicators': []}]}\n"
     ]
    }
   ],
   "source": [
    "url = \"https://unstats.un.org/SDGAPI/v1/sdg/Goal/List?includechildren=true\"\n",
    "req = request.Request(url)\n",
    "response = urlopen.urlopen(req)\n",
    "response_bytes = response.read()\n",
    "json_data = json.loads(response_bytes.decode(\"UTF-8\"))\n",
    "\n",
    "# show an example from the metadata\n",
    "if (json_data):\n",
    "    print(json_data[0])"
   ]
  },
  {
   "cell_type": "markdown",
   "metadata": {},
   "source": [
    "### Connect to the Open Data Group\n",
    "\n",
    "This should be a staging group to ge the data ready for publishing.  The script for promoting will move the data from the users content into the parent folder"
   ]
  },
  {
   "cell_type": "code",
   "execution_count": 13,
   "metadata": {},
   "outputs": [
    {
     "data": {
      "text/html": [
       "<div class=\"9item_container\" style=\"height: auto; overflow: hidden; border: 1px solid #cfcfcf; border-radius: 2px; background: #f6fafa; line-height: 1.21429em; padding: 10px;\">\n",
       "                    <div class=\"item_left\" style=\"width: 210px; float: left;\">\n",
       "                       <a href='https://undesa.maps.arcgis.com/home/group.html?id=967dbf64d680450eaf424ac4a38799ad' target='_blank'>\n",
       "                        <img src='data:image/png;base64,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' ' class=\"itemThumbnail\">\n",
       "                       </a>\n",
       "                    </div>\n",
       "\n",
       "                    <div class=\"item_right\" style=\"float: none; width: auto; overflow: hidden;\">\n",
       "                        <a href='https://undesa.maps.arcgis.com/home/group.html?id=967dbf64d680450eaf424ac4a38799ad' target='_blank'><b>Open Data Staging - Travis</b>\n",
       "                        </a>\n",
       "                        <br/>\n",
       "                        <br/><b>Summary</b>: Personal group for staging data before publication\n",
       "                        <br/><b>Description</b>: None\n",
       "                        <br/><b>Owner</b>: tbutcher_undesa\n",
       "                        <br/><b>Created</b>: April 05, 2018\n",
       "\n",
       "                    </div>\n",
       "                </div>\n",
       "                "
      ],
      "text/plain": [
       "<Group title:\"Open Data Staging - Travis\" owner:tbutcher_undesa>"
      ]
     },
     "metadata": {},
     "output_type": "display_data"
    }
   ],
   "source": [
    "open_data_group_id = '967dbf64d680450eaf424ac4a38799ad'\n",
    "open_data_group = gis_online_connection.groups.get(open_data_group_id)\n",
    "display(open_data_group)"
   ]
  },
  {
   "cell_type": "markdown",
   "metadata": {},
   "source": [
    "### Analyze the CSV file \n",
    "Using the ArcGIS REST API `analyze` endpoint, we can prepare the CSV file we are going to use before publishing it to ArcGIS Online. This will help us by returning information about the file inlcuding fields as well as sample records. This step will also lead into future steps in the publishing process.\n",
    "\n",
    "More info about the analyze endpoint can be found [here](https://developers.arcgis.com/rest/users-groups-and-items/analyze.htm)."
   ]
  },
  {
   "cell_type": "code",
   "execution_count": 14,
   "metadata": {
    "collapsed": true
   },
   "outputs": [],
   "source": [
    "def analyze_csv(item_id):\n",
    "    try:\n",
    "        sharing_url = gis_online_connection._url + \"/sharing/rest/content/features/analyze\"\n",
    "        analyze_params = {'f': 'json', 'token': gis_online_connection._con.token,\n",
    "                          'sourceLocale': 'en-us',\n",
    "                          'filetype': 'csv', 'itemid': item_id}\n",
    "        r = requests.post(sharing_url, data=analyze_params)\n",
    "        analyze_json_data = json.loads(r.content.decode(\"UTF-8\"))\n",
    "        for field in analyze_json_data[\"publishParameters\"][\"layerInfo\"][\"fields\"]:\n",
    "            field[\"alias\"] = set_field_alias(field[\"name\"])\n",
    "\n",
    "            # Indicator is coming in as a date Field make the correct\n",
    "            if field[\"name\"] == \"indicator\":\n",
    "                field[\"type\"] = \"esriFieldTypeString\"\n",
    "                field[\"sqlType\"] = \"sqlTypeNVarchar\"\n",
    "\n",
    "        # set up some of the layer information for display\n",
    "        analyze_json_data[\"publishParameters\"][\"layerInfo\"][\"displayField\"] = \"geoAreaName\"\n",
    "        return analyze_json_data[\"publishParameters\"]\n",
    "    except:\n",
    "        print(\"Unexpected error:\", sys.exc_info()[0])\n",
    "        return None\n",
    "\n"
   ]
  },
  {
   "cell_type": "markdown",
   "metadata": {},
   "source": [
    "### Publish the CSV file\n",
    "This function is where the majority of the work will happen. Here is a basic outline of the steps we will take:\n",
    "- Check to see if a CSV file exists for this series of data\n",
    "- Determine if this CSV has already been published\n",
    "- If the CSV has already been published the script will:\n",
    "  - Update the item properties in case they have changed\n",
    "  - Move to Open Data Folder under the owner content\n",
    "- If the CSV has not already been published the script will:\n",
    "  - Add the file to ArcGIS Online\n",
    "  - Run the analyze tool to get the publish properties\n",
    "  - Publish the CSV file to ArcGIS Online\n",
    "- Move to the Open Data Folder"
   ]
  },
  {
   "cell_type": "code",
   "execution_count": 15,
   "metadata": {
    "collapsed": true
   },
   "outputs": [],
   "source": [
    "def publish_csv(indicator, series, item_properties, thumbnail, property_update_only=False):\n",
    "    # Do we need to publish the hosted feature service for this layer\n",
    "    try:\n",
    "        series_title = series[\"code\"] + \"_\" + indicator[\"code\"].replace(\".\",\"\") + \"_\" + online_username + \"_\" + series[\"release\"].replace('.', '')\n",
    "        file = os.path.join(data_dir, series[\"code\"] + \"_cube.pivot.csv\")\n",
    "        if os.path.isfile(file):\n",
    "            csv_item_properties = copy.deepcopy(item_properties)\n",
    "            csv_item_properties[\"title\"] = series_title\n",
    "            csv_item_properties[\"type\"] = \"CSV\"\n",
    "            csv_item_properties[\"url\"] = \"\"\n",
    "\n",
    "            # Does this CSV already exist\n",
    "            csv_item = find_online_item(csv_item_properties[\"title\"])\n",
    "            if csv_item is None:\n",
    "                print('Adding CSV File to ArcGIS Online....')\n",
    "                csv_item = gis_online_connection.content.add(item_properties=csv_item_properties, thumbnail=thumbnail,\n",
    "                                                             data=file)\n",
    "                if csv_item is None:\n",
    "                    return None\n",
    "\n",
    "                # publish the layer if it was not found\n",
    "                print('Analyze Feature Service....')\n",
    "                publish_parameters = analyze_csv(csv_item[\"id\"])\n",
    "                if publish_parameters is None:\n",
    "                    return None\n",
    "                else:\n",
    "                    publish_parameters[\"name\"] = csv_item_properties[\"title\"]\n",
    "                    publish_parameters[\"layerInfo\"][\"name\"] = csv_item_properties[\"snippet\"]\n",
    "                    # TODO:  Update the layer infomation with a basic rendering based on the Latest Value\n",
    "                    # use the hex color from the SDG Metadata for the symbol color\n",
    "\n",
    "                    print('Publishing Feature Service....')\n",
    "                    csv_lyr = csv_item.publish(publish_parameters=publish_parameters, overwrite=True)\n",
    "            else:\n",
    "                # Update the Data file for the CSV File\n",
    "                csv_item.update(item_properties=csv_item_properties, thumbnail=thumbnail, data=file)\n",
    "                # Find the Feature Service and update the properties\n",
    "                csv_lyr = find_online_item(item_properties[\"title\"])\n",
    "\n",
    "            # Move to the Open Data Folder\n",
    "            if csv_item[\"ownerFolder\"] is None:\n",
    "                print('Moving CSV to Open Data Folder')\n",
    "                csv_item.move(\"Open Data\")\n",
    "\n",
    "            if csv_lyr is not None:\n",
    "                print('Updating Feature Service metadata....')\n",
    "                csv_lyr.update(item_properties=item_properties, thumbnail=thumbnail)\n",
    "\n",
    "                if csv_lyr[\"ownerFolder\"] is None:\n",
    "                    print('Moving Feature Service to Open Data Folder')\n",
    "                    csv_lyr.move(\"Open Data\")\n",
    "\n",
    "                return csv_lyr\n",
    "            else:\n",
    "                return None\n",
    "        else:\n",
    "            return None\n",
    "    except:\n",
    "        print(\"Unexpected error:\", sys.exc_info()[0])\n",
    "        return None"
   ]
  },
  {
   "cell_type": "markdown",
   "metadata": {},
   "source": [
    "### Find the Online Item\n",
    "General function to find a given item in ArcGIS Online by the Owner and by the Title"
   ]
  },
  {
   "cell_type": "code",
   "execution_count": 16,
   "metadata": {
    "collapsed": true
   },
   "outputs": [],
   "source": [
    "def find_online_item(title):\n",
    "    try:\n",
    "        # Search for this ArcGIS Online Item\n",
    "        query_string = \"title:'{}' AND owner:{}\".format(title, online_username)\n",
    "        print('Searching for ' + title)\n",
    "        search_results = gis_online_connection.content.search(query_string)\n",
    "\n",
    "        if search_results:\n",
    "            for search_result in search_results:\n",
    "                if search_result[\"title\"] == title:\n",
    "                    diplay(search_result)\n",
    "                    return search_result\n",
    "                \n",
    "\n",
    "        return None\n",
    "    except:\n",
    "        print(\"Unexpected error:\", sys.exc_info()[0])\n",
    "        return None"
   ]
  },
  {
   "cell_type": "markdown",
   "metadata": {},
   "source": [
    "### Collect SDG Metadata\n",
    "The Metadata json is located within the data folder and downloaded with the code"
   ]
  },
  {
   "cell_type": "code",
   "execution_count": 17,
   "metadata": {
    "collapsed": true
   },
   "outputs": [],
   "source": [
    "def get_metadata():\n",
    "    try:\n",
    "        metadata_json_data = json.load(open(metadata_dir + \"/metadataAPI.json\"))\n",
    "        return metadata_json_data\n",
    "    except:\n",
    "        print(\"Unexpected error:\", sys.exc_info()[0])\n",
    "        return None"
   ]
  },
  {
   "cell_type": "markdown",
   "metadata": {},
   "source": [
    "### Collect SDG Series Metadata\n",
    "Information such as standard Tags can also be retrieved from the SDG Metadata API"
   ]
  },
  {
   "cell_type": "code",
   "execution_count": 18,
   "metadata": {
    "collapsed": true
   },
   "outputs": [],
   "source": [
    "def get_series_tags(goal_metadata=None, indicator_code=None, target_code=None, series_code=None):\n",
    "    try:\n",
    "        for target in goal_metadata[\"targets\"]:\n",
    "            if target[\"target\"] == target_code:\n",
    "                for indicator in target[\"indicators\"]:\n",
    "                    if indicator[\"indicator\"] == indicator_code:\n",
    "                        for series in indicator[\"series\"]:\n",
    "                            if series[\"series\"] == series_code:\n",
    "                                return series[\"tags\"]\n",
    "        return []\n",
    "    except:\n",
    "        traceback.print_exc()\n",
    "        return []"
   ]
  },
  {
   "cell_type": "markdown",
   "metadata": {},
   "source": [
    "### Get Field Aliases\n",
    "Translate the field names and apply a more friendly user name for the alias"
   ]
  },
  {
   "cell_type": "code",
   "execution_count": 19,
   "metadata": {
    "collapsed": true
   },
   "outputs": [],
   "source": [
    "def set_field_alias(field_name):\n",
    "    if field_name == \"series_release\":\n",
    "        return \"Series Release\"\n",
    "    if field_name == \"series_code\":\n",
    "        return \"Series Code\"\n",
    "    if field_name == \"series_description\":\n",
    "        return \"Series Description\"\n",
    "    if field_name == \"geoAreaCode\":\n",
    "        return \"Geographic Area Code\"\n",
    "    if field_name == \"geoAreaName\":\n",
    "        return \"Geographic Area Name\"\n",
    "    if field_name == \"Freq\":\n",
    "        return \"Frequency\"\n",
    "    if field_name == \"latest_year\":\n",
    "        return \"Latest Year\"\n",
    "    if field_name == \"latest_value\":\n",
    "        return \"Latest Value\"\n",
    "    if field_name == \"latest_source\":\n",
    "        return \"Latest Source\"\n",
    "    if field_name == \"latest_nature\":\n",
    "        return \"Latest Nature\"\n",
    "    if field_name == \"last_5_years_mean\":\n",
    "        return \"Mean of the Last 5 Years\"\n",
    "    if field_name == \"ISO3CD\":\n",
    "        return \"ISO3 Code\"\n",
    "    else:\n",
    "        return field_name.capitalize().replace(\"_\", \" \")"
   ]
  },
  {
   "cell_type": "markdown",
   "metadata": {},
   "source": [
    "### Clean out the open data site\n",
    "This step would generally only be used during testing and does not need to be called each time"
   ]
  },
  {
   "cell_type": "code",
   "execution_count": 20,
   "metadata": {
    "collapsed": true
   },
   "outputs": [],
   "source": [
    "def cleanup_site():\n",
    "    user = gis_online_connection.users.get(user)\n",
    "    user_items = user.items(folder='Open Data', max_items=800)\n",
    "    for item in user_items:\n",
    "        print('deleting item ' + item.title)\n",
    "        item.delete()\n",
    "\n",
    "    return"
   ]
  },
  {
   "cell_type": "markdown",
   "metadata": {},
   "source": [
    "### Process SDG Infomation\n",
    "This function is where the majority of the work will happen. Here is a basic outline of the steps we will take:\n",
    "- Build out the item card infomation from the Metadata API and addtional information\n",
    "- Create an Group in ArcGIS Online for the Goal if needed, otherwise update the property information\n",
    "- If exists, update and move to Open Data Group\n",
    "- Publish the CSV File (if the property_update_only flag is False)\n",
    "- If it doesn't exist, publish as a new Item then move to the Open Data Group\n",
    "\n",
    "##### goal_code (default None):  Indvidual goal code.  This will process this goal and all the children targets as well\n",
    "process_sdg_information(goal_code='1')\n",
    "##### indicator_code (default None):  Individual indicator code.  This will process this indicator and all the children targets as well\n",
    "process_sdg_information(goal_code='1', indicator_code='1.1')\n",
    "##### target_code (default None):  Individual Target code.  This will process this target code only\n",
    "process_sdg_information(goal_code='1', indicator_code='1.1', target_code='1.1.1')\n",
    "##### series_code (default None):  Individual Series code.  This will process this series code only\n",
    "process_sdg_information(goal_code='1', indicator_code='1.1', target_code='1.1.1', series_code='SI_POV_DAY1')\n",
    "##### property_update_only (default False):  If True this will only update the metadata in the item card and will not process the actual data sources\n",
    "process_sdg_information(goal_code='1', indicator_code='1.1', target_code='1.1.1', series_code='SI_POV_DAY1', property_update_only=True)"
   ]
  },
  {
   "cell_type": "code",
   "execution_count": 21,
   "metadata": {},
   "outputs": [],
   "source": [
    "process_sdg_information(goal_code='1', indicator_code='1.1', target_code='1.1.1', series_code='SI_POV_DAY1',\n",
    "                            property_update_only=False)"
   ]
  },
  {
   "cell_type": "code",
   "execution_count": 22,
   "metadata": {
    "collapsed": true
   },
   "outputs": [],
   "source": [
    "def process_sdg_information(goal_code=None, indicator_code=None, target_code=None, series_code=None,\n",
    "                            property_update_only=False):\n",
    "    try:\n",
    "        sdg_metadata = get_metadata()\n",
    "        for goal in json_data:\n",
    "            # Determine if we are processing this query Only process a specific series code\n",
    "            if goal_code is not None and int(goal[\"code\"]) != goal_code:\n",
    "                continue\n",
    "\n",
    "            # Get the Thumbnail from the SDG API\n",
    "            for goal_item in sdg_metadata:\n",
    "                if goal_item[\"goal\"] == int(goal[\"code\"]):\n",
    "                    goal_metadata = goal_item\n",
    "                    break\n",
    "\n",
    "            if goal_metadata is None:\n",
    "                continue\n",
    "\n",
    "            # if a thumbnail was not found use a default thumbnail for icon\n",
    "            if \"icon_url_sq\" in goal_metadata:\n",
    "                thumbnail = goal_metadata[\"icon_url_sq\"]\n",
    "            else:\n",
    "                thumbnail = \"http://undesa.maps.arcgis.com/sharing/rest/content/items/aaa0678dba0a466e8efef6b9f11775fe/data\"\n",
    "\n",
    "            # Create a Group for the Goal\n",
    "            group_goal_properties = dict()\n",
    "            group_goal_properties[\"title\"] = \"SDG \" + goal[\"code\"]\n",
    "            group_goal_properties[\"snippet\"] = goal[\"title\"]\n",
    "            group_goal_properties[\"description\"] = goal[\"description\"]\n",
    "            group_goal_properties[\"tags\"] = [group_goal_properties[\"title\"]]\n",
    "            group_goal_properties[\"thumbnail\"] = thumbnail\n",
    "\n",
    "            # Iterate through each of the targets\n",
    "            for target in goal[\"targets\"]:\n",
    "                # Determine if we are processing this query Only process a specific target code\n",
    "                if target_code is not None and int(target[\"code\"]) != target_code:\n",
    "                    continue\n",
    "\n",
    "                group_target_properties = dict()\n",
    "                group_target_properties[\"tags\"] = [\"Target \" + target[\"code\"]]\n",
    "                open_data_group.update(tags=open_data_group[\"tags\"] + group_target_properties[\"tags\"])\n",
    "\n",
    "                # Iterate through each of the indicators\n",
    "                for indicator in target[\"indicators\"]:\n",
    "                    # Allow processing a single indicator\n",
    "                    if indicator_code and not indicator[\"code\"] == indicator_code:\n",
    "                        continue\n",
    "\n",
    "                    process_indicator = dict()\n",
    "                    process_indicator[\"name\"] = \"Indicator \" + indicator[\"code\"]  # eg. Indicator 1.1.1\n",
    "                    process_indicator[\"tags\"] = [process_indicator[\"name\"]]\n",
    "\n",
    "                    # Append the keyword tags from the metadata as well\n",
    "                    open_data_group.update(tags=open_data_group[\"tags\"] + process_indicator[\"tags\"])\n",
    "\n",
    "                    process_indicator[\"snippet\"] = indicator[\"code\"] + \": \" + indicator[\"description\"]\n",
    "                    process_indicator[\"description\"] = \"<p><strong>Indicator \" + indicator[\"code\"] + \": </strong>\" + \\\n",
    "                                                       indicator[\n",
    "                                                           \"description\"] + \"</p>\" + \"</p><p><strong>Target \" + target[\n",
    "                                                           \"code\"] + \": </strong>\" + target[\n",
    "                                                           \"description\"] + \"</p>\" + \"<p>\" + goal[\n",
    "                                                           \"description\"] + \"</p>\"\n",
    "\n",
    "                    process_indicator[\"credits\"] = \"UNSD\"\n",
    "                    process_indicator[\"thumbnail\"] = thumbnail\n",
    "\n",
    "                    # Iterate through each of the series\n",
    "                    for series in indicator[\"series\"]:\n",
    "                        # Determine if we are processing this query Only process a specific series code\n",
    "                        if indicator_code and not (series[\"code\"] == series_code or series_code is None):\n",
    "                            continue\n",
    "\n",
    "                        # Build the metadata properties for the item card\n",
    "                        item_properties = dict()\n",
    "                        item_properties[\"title\"] = process_indicator[\"name\"] + \" (\" + series[\"code\"] + \"): \" + series[\n",
    "                            \"description\"]\n",
    "                        if not series[\"description\"]:\n",
    "                            series[\"description\"] = series[\"code\"]\n",
    "                        snippet = series[\"code\"] + \": \" + series[\"description\"]\n",
    "                        item_properties[\"snippet\"] = (snippet[:250] + \"..\") if len(snippet) > 250 else snippet\n",
    "                        item_properties[\"description\"] = \"<p><strong>Series \" + series[\"code\"] + \": </strong>\" + series[\n",
    "                            \"description\"] + \"</p>\" + process_indicator[\"description\"] + \\\n",
    "                                                         \"<p><strong>Release Version</strong>: \" + series[\"release\"]\n",
    "                        final_tags = group_goal_properties[\"tags\"] + group_target_properties[\"tags\"] + \\\n",
    "                                     process_indicator[\"tags\"]\n",
    "                        final_tags.extend(get_series_tags(goal_metadata=goal_metadata, indicator_code=indicator[\"code\"],\n",
    "                                                          target_code=target[\"code\"], series_code=series[\"code\"]))\n",
    "                        # Append the version number to the tags\n",
    "                        final_tags.append(series[\"release\"])\n",
    "                        item_properties[\"tags\"] = final_tags\n",
    "\n",
    "                        # Add this item to ArcGIS Online\n",
    "                        print(\"Processing series code:\", indicator[\"code\"], series[\"code\"])\n",
    "                        try:\n",
    "                            if property_update_only:\n",
    "                                online_item = find_online_item(item_properties[\"title\"])\n",
    "                                if online_item is None:\n",
    "                                    failed_series.append(series[\"code\"])\n",
    "                                else:\n",
    "                                    # Update the Item Properties from the item_properties\n",
    "                                    online_item.update(item_properties=item_properties, thumbnail=thumbnail)\n",
    "                            else:\n",
    "                                online_item = publish_csv(indicator, series, item_properties=item_properties,\n",
    "                                                          thumbnail=thumbnail,\n",
    "                                                          property_update_only=property_update_only)\n",
    "\n",
    "                            if online_item is not None:\n",
    "                                display(online_item)\n",
    "                                # Share this content with the open data group\n",
    "                                online_item.share(everyone=False, org=True, groups=open_data_group[\"id\"],\n",
    "                                                  allow_members_to_edit=False)\n",
    "                                # Update the Group Information with Data from the Indicator and targets\n",
    "                                #TODO:  Get clean set of tags open_data_group.update(tags=open_data_group[\"tags\"] + [series[\"code\"]])\n",
    "                            else:\n",
    "                                failed_series.append(series[\"code\"])\n",
    "                        except:\n",
    "                            traceback.print_exc()\n",
    "                            print(\"Failed to process series code:\", indicator[\"code\"], series[\"code\"])\n",
    "                            failed_series.append(series[\"code\"])\n",
    "                            return\n",
    "\n",
    "    except:\n",
    "        traceback.print_exc()"
   ]
  }
 ],
 "metadata": {
  "celltoolbar": "Raw Cell Format",
  "kernelspec": {
   "display_name": "Python 3",
   "language": "python",
   "name": "python3"
  },
  "language_info": {
   "codemirror_mode": {
    "name": "ipython",
    "version": 3
   },
   "file_extension": ".py",
   "mimetype": "text/x-python",
   "name": "python",
   "nbconvert_exporter": "python",
   "pygments_lexer": "ipython3",
   "version": "3.6.2"
  }
 },
 "nbformat": 4,
 "nbformat_minor": 2
}
