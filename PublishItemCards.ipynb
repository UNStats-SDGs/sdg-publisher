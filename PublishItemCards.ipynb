{
 "cells": [
  {
   "cell_type": "markdown",
   "metadata": {},
   "source": [
    "## Process the SDG Data Items\n",
    "The purpose of this notebook is to illustrate how to use the SDG Metadata API in conjunction with local CSV files to publish spatial data to ArcGIS Online.  While this example has some elements that are specific to the UNSD workflow it is generic enough to show how to loop and use the API for publishing.  You may to need add or update workflows around publishing to meet your exact needs and working environments.\n",
    "\n",
    "# install & requirements\n",
    "Data Package python lib\n",
    "+ pip install ipdb\n",
    "+ pip install requests\n",
    "+ pip install urllib3\n",
    "\n",
    "\n",
    "# ArcGIS API for Python\n",
    "Install & Setup Guide here: https://developers.arcgis.com/python/guide/install-and-set-up/#Test-your-install-with-jupyter-notebook "
   ]
  },
  {
   "cell_type": "markdown",
   "metadata": {},
   "source": [
    "### Import python libraries"
   ]
  },
  {
   "cell_type": "code",
   "execution_count": 3,
   "metadata": {},
   "outputs": [],
   "source": [
    "import os, re, json, traceback, sys, copy, urllib\n",
    "import urllib.request as urlopen\n",
    "import urllib.request as request\n",
    "import requests\n",
    "\n",
    "from arcgis.gis import GIS\n",
    "\n",
    "import time\n",
    "from datetime import datetime\n",
    "\n",
    "# used to prompt for user input\n",
    "# when using this script internally, you may remove this and simply hard code in your username and password\n",
    "import getpass\n",
    "\n",
    "# this helps us do some debugging within the Python Notebook\n",
    "# another optional component\n",
    "from IPython.display import display"
   ]
  },
  {
   "cell_type": "markdown",
   "metadata": {},
   "source": [
    "### Create a connection to your ArcGIS Online Organization\n",
    "This will rely on using the ArcGIS API for python to connect to your ArcGIS Online Organization to publish and manage data.  For more information about this python library visit the developer resources at [https://developers.arcgis.com/python/](https://developers.arcgis.com/python/)"
   ]
  },
  {
   "cell_type": "code",
   "execution_count": 5,
   "metadata": {
    "scrolled": true
   },
   "outputs": [
    {
     "name": "stdout",
     "output_type": "stream",
     "text": [
      "Username: tbutcher_undesa\n",
      "Password: ········\n",
      "Logged in as: tbutcher_undesa\n"
     ]
    }
   ],
   "source": [
    "online_username = input('Username: ')\n",
    "online_password = getpass.getpass('Password: ')\n",
    "\n",
    "online_connection = \"https://www.arcgis.com\"\n",
    "gis_online_connection = GIS(online_connection, online_username, online_password)\n",
    "\n",
    "user = gis_online_connection.properties.user.username\n",
    "print ('Logged in as: ' + user)\n",
    "\n",
    "data_dir = \"FIS4SDGs/csv/\"\n",
    "metadata_dir = \"FIS4SDGs/\"\n",
    "failed_series = []"
   ]
  },
  {
   "cell_type": "markdown",
   "metadata": {},
   "source": [
    "### Get the JSON Data from the UN SDG Metadata API\n",
    "\n",
    "The SDG Metadata API is designed to  retrieve information and metadata on the [Sustainable Development Goals](http://www.un.org/sustainabledevelopment/sustainable-development-goals/).\n",
    "\n",
    "The Inter-agency Expert Group on SDG Indicators released a series of PDFs that includes metadata for each Indicator. Those PDFs can be downloaded [here](http://unstats.un.org/sdgs/iaeg-sdgs/metadata-compilation/).\n",
    "\n",
    "The metadata API is an Open Source project maintained by the UN Statisitics division and be be accessed on [github](https://github.com/UNStats-SDGs/sdg-metadata-api)"
   ]
  },
  {
   "cell_type": "code",
   "execution_count": 6,
   "metadata": {},
   "outputs": [
    {
     "name": "stdout",
     "output_type": "stream",
     "text": [
      "{'code': '1', 'title': 'End poverty in all its forms everywhere', 'description': 'Goal 1 calls for an end to poverty in all its manifestations, including extreme poverty, over the next 15 years. All people everywhere, including the poorest and most vulnerable, should enjoy a basic standard of living and social protection benefits.', 'uri': '/v1/sdg/Goal/1', 'targets': [{'goal': None, 'code': '1.1', 'title': 'By 2030, eradicate extreme poverty for all people everywhere, currently measured as people living on less than $1.25 a day', 'description': 'By 2030, eradicate extreme poverty for all people everywhere, currently measured as people living on less than $1.25 a day', 'uri': '/v1/Target/1.1', 'indicators': [{'goal': None, 'target': None, 'code': '1.1.1', 'description': 'Proportion of population below the international poverty line, by sex, age, employment status and geographical location (urban/rural)', 'tier': '1', 'uri': '/v1/Indicator/1.1.1', 'series': [{'goal': None, 'target': None, 'indicator': None, 'release': '2017.Q2.G.01', 'code': 'SI_POV_DAY1', 'description': 'Proportion of population below the international poverty line of US$1.90 per day, total (%)', 'uri': '/v1/sdg/Series/SI_POV_DAY1'}, {'goal': None, 'target': None, 'indicator': None, 'release': '2017.Q2.G.01', 'code': 'SI_POV_EMP1', 'description': 'Proportion of employed population below the international poverty line of US$1.90 per day (the working poor), total and by sex, age (%)', 'uri': '/v1/sdg/Series/SI_POV_EMP1'}]}]}, {'goal': None, 'code': '1.2', 'title': 'By 2030, reduce at least by half the proportion of men, women and children of all ages living in poverty in all its dimensions according to national definitions', 'description': 'By 2030, reduce at least by half the proportion of men, women and children of all ages living in poverty in all its dimensions according to national definitions', 'uri': '/v1/Target/1.2', 'indicators': [{'goal': None, 'target': None, 'code': '1.2.1', 'description': 'Proportion of population living below the national poverty line, by sex and age', 'tier': '1', 'uri': '/v1/Indicator/1.2.1', 'series': [{'goal': None, 'target': None, 'indicator': None, 'release': '2017.Q2.G.01', 'code': 'SI_POV_NAHC', 'description': 'Proportion of population living below the national poverty line, total and by rural/urban (%)', 'uri': '/v1/sdg/Series/SI_POV_NAHC'}]}]}, {'goal': None, 'code': '1.3', 'title': 'Implement nationally appropriate social protection systems and measures for all, including floors, and by 2030 achieve substantial coverage of the poor and the vulnerable', 'description': 'Implement nationally appropriate social protection systems and measures for all, including floors, and by 2030 achieve substantial coverage of the poor and the vulnerable', 'uri': '/v1/Target/1.3', 'indicators': [{'goal': None, 'target': None, 'code': '1.3.1', 'description': 'Proportion of population covered by social protection floors/systems, by sex, distinguishing children, unemployed persons, older persons, persons with disabilities, pregnant women, newborns, work-injury victims and the poor and the vulnerable', 'tier': '1', 'uri': '/v1/Indicator/1.3.1', 'series': [{'goal': None, 'target': None, 'indicator': None, 'release': '2017.Q2.G.01', 'code': 'SI_COV_MATNL', 'description': 'Proportion of mothers receiving maternity benefits and benefits for newborns, total (%)', 'uri': '/v1/sdg/Series/SI_COV_MATNL'}, {'goal': None, 'target': None, 'indicator': None, 'release': '2017.Q2.G.01', 'code': 'SI_COV_POOR', 'description': 'Proportion of poor population covered by social protection floors/systems, total (%)', 'uri': '/v1/sdg/Series/SI_COV_POOR'}, {'goal': None, 'target': None, 'indicator': None, 'release': '2017.Q2.G.01', 'code': 'SI_COV_SOCAST', 'description': 'Proportion of population covered by social assistance programs, total (%)', 'uri': '/v1/sdg/Series/SI_COV_SOCAST'}, {'goal': None, 'target': None, 'indicator': None, 'release': '2017.Q2.G.01', 'code': 'SI_COV_SOCASTPQ', 'description': 'Proportion of poorest quintile population covered by social assistance programs, total (%)', 'uri': '/v1/sdg/Series/SI_COV_SOCASTPQ'}, {'goal': None, 'target': None, 'indicator': None, 'release': '2017.Q2.G.01', 'code': 'SI_COV_SOCINS', 'description': 'Proportion of population covered by social insurance programs, total (%)', 'uri': '/v1/sdg/Series/SI_COV_SOCINS'}, {'goal': None, 'target': None, 'indicator': None, 'release': '2017.Q2.G.01', 'code': 'SI_COV_CHLD', 'description': 'Proportion of children covered by social protection, total (%)', 'uri': '/v1/sdg/Series/SI_COV_CHLD'}, {'goal': None, 'target': None, 'indicator': None, 'release': '2017.Q2.G.01', 'code': 'SI_COV_SOCINSPQ', 'description': 'Proportion of poorest quintile population covered by social insurance programs, total (%)', 'uri': '/v1/sdg/Series/SI_COV_SOCINSPQ'}, {'goal': None, 'target': None, 'indicator': None, 'release': '2017.Q2.G.01', 'code': 'SI_COV_UEMP', 'description': 'Proportion of unemployed population receiving unemployment benefits, total and by sex (%)', 'uri': '/v1/sdg/Series/SI_COV_UEMP'}, {'goal': None, 'target': None, 'indicator': None, 'release': '2017.Q2.G.01', 'code': 'SI_COV_VULN', 'description': 'Proportion of vulnerable population covered by social protection floors/systems, total (%)', 'uri': '/v1/sdg/Series/SI_COV_VULN'}, {'goal': None, 'target': None, 'indicator': None, 'release': '2017.Q2.G.01', 'code': 'SI_COV_WKINJRY', 'description': 'Proportion of employed population covered in the event of work injury, total and by sex (%)', 'uri': '/v1/sdg/Series/SI_COV_WKINJRY'}, {'goal': None, 'target': None, 'indicator': None, 'release': '2017.Q2.G.01', 'code': 'SI_COV_BENFTS', 'description': 'Proportion of population covered by at least one social protection floor/system, total (%)', 'uri': '/v1/sdg/Series/SI_COV_BENFTS'}, {'goal': None, 'target': None, 'indicator': None, 'release': '2017.Q2.G.01', 'code': 'SI_COV_DISAB', 'description': 'Proportion of population with severe disabilities collecting disability social protection benefits, total (%)', 'uri': '/v1/sdg/Series/SI_COV_DISAB'}, {'goal': None, 'target': None, 'indicator': None, 'release': '2017.Q2.G.01', 'code': 'SI_COV_LMKT', 'description': 'Proportion of population covered by labour market programs, total (%)', 'uri': '/v1/sdg/Series/SI_COV_LMKT'}, {'goal': None, 'target': None, 'indicator': None, 'release': '2017.Q2.G.01', 'code': 'SI_COV_LMKTPQ', 'description': 'Proportion of poorest quintile population covered by labour market programs, total (%)', 'uri': '/v1/sdg/Series/SI_COV_LMKTPQ'}, {'goal': None, 'target': None, 'indicator': None, 'release': '2017.Q2.G.01', 'code': 'SI_COV_PENSN', 'description': 'Proportion of population above retirement age receiving a pension, total and by sex (%)', 'uri': '/v1/sdg/Series/SI_COV_PENSN'}]}]}, {'goal': None, 'code': '1.4', 'title': 'By 2030, ensure that all men and women, in particular the poor and the vulnerable, have equal rights to economic resources, as well as access to basic services, ownership and control over land and other forms of property, inheritance, natural resources, appropriate new technology and financial services, including microfinance', 'description': 'By 2030, ensure that all men and women, in particular the poor and the vulnerable, have equal rights to economic resources, as well as access to basic services, ownership and control over land and other forms of property, inheritance, natural resources, appropriate new technology and financial services, including microfinance', 'uri': '/v1/Target/1.4', 'indicators': []}, {'goal': None, 'code': '1.5', 'title': 'By 2030, build the resilience of the poor and those in vulnerable situations and reduce their exposure and vulnerability to climate-related extreme events and other economic, social and environmental shocks and disasters', 'description': 'By 2030, build the resilience of the poor and those in vulnerable situations and reduce their exposure and vulnerability to climate-related extreme events and other economic, social and environmental shocks and disasters', 'uri': '/v1/Target/1.5', 'indicators': [{'goal': None, 'target': None, 'code': '1.5.1', 'description': 'Number of deaths, missing persons and directly affected persons attributed to disasters per 100,000 population', 'tier': '1', 'uri': '/v1/Indicator/1.5.1', 'series': [{'goal': None, 'target': None, 'indicator': None, 'release': '2017.Q2.G.01', 'code': 'VC_DSR_MISS', 'description': 'Number of missing persons due to disaster, total (number)', 'uri': '/v1/sdg/Series/VC_DSR_MISS'}, {'goal': None, 'target': None, 'indicator': None, 'release': '2017.Q2.G.01', 'code': 'VC_DSR_AFFCT', 'description': 'Number of people affected by disaster, total (number)', 'uri': '/v1/sdg/Series/VC_DSR_AFFCT'}, {'goal': None, 'target': None, 'indicator': None, 'release': '2017.Q2.G.01', 'code': 'VC_DSR_MORT', 'description': 'Number of deaths due to disaster, total (number)', 'uri': '/v1/sdg/Series/VC_DSR_MORT'}]}, {'goal': None, 'target': None, 'code': '1.5.2', 'description': 'Direct economic loss attributed to disasters in relation to global gross domestic product (GDP)', 'tier': '1', 'uri': '/v1/Indicator/1.5.2', 'series': [{'goal': None, 'target': None, 'indicator': None, 'release': '2017.Q2.G.01', 'code': 'VC_DSR_GDPLS', 'description': 'Direct economic loss attributed to disasters, total (millions of current United States dollars)', 'uri': '/v1/sdg/Series/VC_DSR_GDPLS'}]}, {'goal': None, 'target': None, 'code': '1.5.3', 'description': 'Number of countries that adopt and implement national disaster risk reduction strategies in line with the Sendai Framework for Disaster Risk Reduction 2015-2030', 'tier': '1', 'uri': '/v1/Indicator/1.5.3', 'series': [{'goal': None, 'target': None, 'indicator': None, 'release': '2017.Q2.G.01', 'code': 'SG_DSR_LEGREG', 'description': 'Countries with legislative and/or regulatory provisions been made for managing disaster risk (1 = YES; 0 = NO)', 'uri': '/v1/sdg/Series/SG_DSR_LEGREG'}]}]}, {'goal': None, 'code': '1.a', 'title': 'Ensure significant mobilization of resources from a variety of sources, including through enhanced development cooperation, in order to provide adequate and predictable means for developing countries, in particular least developed countries, to implement programmes and policies to end poverty in all its dimensions', 'description': 'Ensure significant mobilization of resources from a variety of sources, including through enhanced development cooperation, in order to provide adequate and predictable means for developing countries, in particular least developed countries, to implement programmes and policies to end poverty in all its dimensions', 'uri': '/v1/Target/1.a', 'indicators': []}, {'goal': None, 'code': '1.b', 'title': 'Create sound policy frameworks at the national, regional and international levels, based on pro-poor and gender-sensitive development strategies, to support accelerated investment in poverty eradication actions', 'description': 'Create sound policy frameworks at the national, regional and international levels, based on pro-poor and gender-sensitive development strategies, to support accelerated investment in poverty eradication actions', 'uri': '/v1/Target/1.b', 'indicators': []}]}\n"
     ]
    }
   ],
   "source": [
    "url = \"https://unstats.un.org/SDGAPI/v1/sdg/Goal/List?includechildren=true\"\n",
    "req = request.Request(url)\n",
    "response = urlopen.urlopen(req)\n",
    "response_bytes = response.read()\n",
    "json_data = json.loads(response_bytes.decode(\"UTF-8\"))\n",
    "\n",
    "# show an example from the metadata\n",
    "if (json_data):\n",
    "    print(json_data[0])"
   ]
  },
  {
   "cell_type": "markdown",
   "metadata": {},
   "source": [
    "### Connect to the Open Data Group\n",
    "\n",
    "This will be the primary group that the data is shared with to allow sharing with the Open Data Site"
   ]
  },
  {
   "cell_type": "code",
   "execution_count": 7,
   "metadata": {},
   "outputs": [
    {
     "data": {
      "text/html": [
       "<div class=\"9item_container\" style=\"height: auto; overflow: hidden; border: 1px solid #cfcfcf; border-radius: 2px; background: #f6fafa; line-height: 1.21429em; padding: 10px;\">\n",
       "                    <div class=\"item_left\" style=\"width: 210px; float: left;\">\n",
       "                       <a href='https://undesa.maps.arcgis.com/home/group.html?id=15c1671f5fbc4a00b1a359d51ea6a546' target='_blank'>\n",
       "                        <img src='data:image/png;base64,iVBORw0KGgoAAAANSUhEUgAAAJYAAACWCAIAAACzY+a1AAAoB0lEQVR42u2dB1QTWRuG47rF3bVgQUVFLHQbAoq9rfW3rL33Xtde1oIVEUTRtYCACnYRLEjv0kSRXqX3kkBCeibJTP6bBEkmJDAJiTTveY8HQ2ZC7jNfnTszON6P0cIH7scU/EDYHAeZysBXklEvIQhMqv6BsNkNKo0ZFJl8xe7d3rMPZ2+0HDLrSJ8xuwZM3Ddw0j+9R+9EEawi4tX1KgebEgYYVRqMI81aTtl9jG5zh/XeD2nhaFsMQg6HS6OzgHnFJOacvPpi1nrLzsM3txu0qtOwzeqm29VNtvcatQNg0zDbpTF6J/gB/BaFsLIK30mLoDmMoDmc0G8Yoe9QgsYQgoYhvrtORYe+4FfEKQuox86xwz8iZApCpfHY7B8IlTZSs4p9PyRa3H07c/1lITa1EVt6GG8TAustAFZXnYfVQdixPx9eXQmhApzqevgOffBdBhCn/k0zvwL5BXMSUxAI+oFQwZGQln/VwXP1gVumC052HrYJCJgaH5sMZoojrCuAs4cOXm1Q1cip1Su30s5fZcfE/0Ao96ioJPcbt0fgITExUyZCNE5gpuQNe38gbCjUceGKajq+mi7+ouGso8II15QIBZ4WGKJoVzCbwyKBf38grBlsLhyeVnToYTBu4ZUxR5y5MFL7qweuoWojNjc9wv7DUWlwSUTcna6FYUepJZFciNLWEb7/kr3U6s0fq6/j5lm0W3YVN9WcxqxJH4Qkf9Fd28QIexmQ1+8Wry/LYqwTnQYm3h+Y9FA313cDMdO1zSEUsimqpIz99/HvK6/hllgDeD8JhFtsNfMiakZsHN93GrqpCRHiuwxEmEzRfrhQ/N0eyc4GNXqol+wyNMNtOq38S1tBiCB8gvucAoVm95OEll/Fzbko/v78YgKA0WQI+wwh6I8R3w+t7HOiY38Rwm9KdBqQH7iTy6r+doi2UoRMNvdJWGqvTbdw8y1+qstPaIhLr97yFB3RVdW0uVuse5hsaxKEYBNOUqr4fpLuD6rLr4bi/YEpj4ZVfX3JYVS2ToThqYULLd1xCy7jlljJ4ifUgB124hvedw0BRWETIOw7tHKwKVxcWrsTFjk36f5gWQgFflU/waFvttdKckFAa0N4ye2j2vqbDcITquuG/3zic2u3TUwvMJp74vsjxKvr0W/Y8xCRY8x8u6A+fmIBMuXxiOLIMyBytgaEdIgz56JrPZ5Tii9deGX3bR/xnaw5cLsJrLC3IfPRS/F9fHWfiQnhN7+a6T4LZtNbNsKEvIrO627g/rZsv/yqHAiXWo/990kZkVq7H/tngX3G7P6uCDWHk+auROgMUbco/jbwk9gRAoGqI9FRi1L8QaV9AFUhhBHksvvHnwU8sMMTUZx9wT8hT3yHmuP3fleE/UdQdhwS255bFHY06YG2XAhrQD7QKY46C6qRloSQCyPzLrq2X3q13dKrCvDjI/zbcru9n3inZt855+4jt303hJWDjBG6yAfSK+IU41eb5mS++Z9YVdzsEYLi793nbNz8y4rxExSINriJp6gM1JHbccjG74fQcJz41uR8P6nloFxONfv9shYWC209Ytor5EVrDHHBZZfQFPEdTll1QXiaUNUI8d11IP9Qsb42J/3VFH4jRmF+9weDSqMFWCGnTtA+8SgUN+9S++U2irrTy+J7y8gp7aC//jsgrOikhWrEMwhxd7omOxsqyO+BDuAHcxjNPRbS2JRtwQvDSv0l2qE77f1w/7uoIMLFVp+yRJV1OaHaYPrhnqY7VIoQrzaI5fpOfFt+LdEIE0x/OVmitEjEZ0QVJzQvhIDfct9J6wJmLfWZmEfJknAXU8yf4xZZKUZx8OZb4rt6/CZcbcQW1SLsps0tLEbNuNMAhfmluAyVmA08vWraiw39704JL4ptLggJzPKtQfPXBcwUapnvxHxKtvgbqqhMoyPOuCWKxEXNnfYVYueBPQJj+43brUKEvQ3Ja3YgFFFJWh57Q95y8Jv/1E57PhZmU1HnGiH6Os9jWnZT9RxnD3GaG1Ec2/QIqWzK0ciNq/3/qkW4NmDGluD5GaQk8bdll5M0tt5pJz/Cdkutj7mEiO9q0c5rqkOI7zaY6fJCfMP0l5MUi3/pLycyiRkS07XZ+2SfOxMBPyAdh5ljHq/IIuU3GUJE4B+ORGxY7T+tll+tDoavL6DkiL+fSGPiFljIHQ6XWC+1ecviiJqN+y8417NwrZEIiRPncXNEc0rKeZf6xFgR//l4BLkwWGLG5rntGGj/l5CfUNr3Zox0XlQ7mU1ghWei90jlBwRevxRziAxVo1NWWIFiETfrvF8c6mgYNPkfFSGkbNonvlVxxClgT3KboLNeZdojibla/f6Ivhi8Wuk6zhr+YH7TWOHD9P9W+E2Wyk+oRd5j7VOucBGO+FZZZcROa2zliouA+l2/eFjsjMG4pWd7NrQsShGEA0aK97XZtJIsj0Vy90Uf6JRGXxIvAREEORtxa/C9GXrSEAo86qyV7w5yEfi7Igwr9VsrG55Q6wNmLfIeY5d8RWLbgMT831del6vr3XGlDQMSHQqZuWWdh29WMkLNYQStEeJbUEvC4+17ycUv0Umr7LNVLT+he7z2+YGW/TRZ/Grj4vWYh+KHqWoRFtMKtoX8DdKWdQ1RFHrU20kWEnvw/JKNm2eBveTHzb6QXU4U30OXEcpG2FOfan5FvCNTGHJArr5o0v3BxREnJUqIG19cAB7devkJ3Sl4WzIh83sgZMPs09G7ZIVAqVrlN/VFlpPEfm57xwKKctjiIpQ1J6UX1t+pkRchyEVRnXqIEndHTa6OTLbnSonv6Jrhq+M4S68hfrXu1Ojh3wwOU+UIX2Q6LvYei52fUAu9zYKLvcS7Nvzc8kEgAIO9ZVpNY9XuoQxP6mGyTXyht7rp9u7G27oabek8bBMo/yUui4Erqyp+6YXvOhivrkvopc9fo40qBw2IUxei8uevrtgr+qT7g7I9JVvYn8uSQLapj42fUKBe3OJzUrUIk6til/iMA0FOXoRAi33G+eS7iSfQEIe72PoNbrEVxgJxpfWb2r8EYnNOXn0hQLXpZ+01HQ03/L3d5uDFR6dsXp61fWVp9+7uE3Srj8mkXbpGO29NO2dFPXq2evV2vLpexW99gPER+gzB/6EJozsyCfc0MJpggkO//KDdEhNVSC6b+HTN4HvT9eRBqO84p9/dyU6Jr1SFkMiq/CdstQLwxBMcjzxU4QwoDjv0EGPJP3Cnvfi2954F9h2z2/FFUMjH1OSMQgKRArhiqmjZbJhUzUn7CoVHM11eVo2YROg/AiZUifoVpVEYoyCwvzz/rXXXdJs6Lx4kJ79ambosia9IVwnCB+k31vhPbwxCIJAHxeAjJPbcedV1LBTbL7t66lmYSrr96IQ+/fl4bC7UMMNtOptWJrGzeuoHLNJ2mLE/0AJ7sY8V4VdSyrbgvxvJDwgcBAfD1xZR88TOD/P/1dp+t/64CPztL8ttzjxVDUL0yHwzr2ErfKiX+mw0nZAo0QKd8HQV8IeNQSigONMnNxwjRYwIEdsEc8G5iJmN1wrfSac+7qSxUc6HzIBGHnHGLbwircdmhZt5fsNtb6fARN73GAi5MKgk8gwo6pMeDJbFD/yWWhwuvhmTw1r8Zq9EC00xgSA65dk6BFEewrASv6U+E5TCT6iVflMPR2yQ+JRSIlVzh50kv7mXTPY6BqcUsthc3vccCJdBSMr2WJTg0LduXgPQii/2FZrLfPedg5TBTyiQ19yJe6Y0hBWM0k1Bc8VPRyhDs45HbZX4oNyKavG1GrhFVhbuUbXO9rsP/qdSisPi0RSTHugQUu5LvHX5uwPA+ymLnzA77X7TTMnpjH/h2xMftwkaLn8pyxZtE85JNFE/ZpT+vNwGt9RaY9X14sqmv3pPYJCsjFdTUh6PEK5iKvl4XuINR0OsBzvMUAo5XcdZwIuCpHSd5zEam6FkhDUnXfOeX4s/s8RnvFJALvYeJ2y/iYfuFxHp+5wCaBCH15xGZeojUAKWx9lKrGK6n+Sm7zRHKfx6355g4rz4SrTDl7IU1fZIGRw6SFAPRqxd6D1GGdnNZMvYYxIUOTDMa36DVvZJ4pXggmjg8XQdZjXOZ84eYD9Ny26aQ8LLjKpcZXZn8kjMFc+TKumyFpMjFfTS9YGzlGKONxPP81rawDOqet8e33jj07Sbsi/wkkpONr1KqcAd98Md9Z3i+KWgmslgS/+MwKL3IDFpfIz0zHvZgvgVUsrUb41V2IWCmKd9b8YolyWbvU+yudKNhFVYUh0VE6KmU+ryUhGEEBee6RKP+9cfdyYQdzIAaIN76oukclnvf537xDbh7DLfSXKdxKhtvK3wmxyLj2pBCM0er1C4hNe4M8HYeZFVtEMSPkP65JdVlD5+9clkRkhX3bB+RtHG02EWJDfCMiqEO+LD51erkwEdzgfPcI5zS66QftRwmSBGnojavtDbDDu/DYGzZ3oMy6nOaFleFFih2o1Rhk5z5YIniHlTnRJfpVVm14lLNalAxr6TX6YsCuszIlzTOFzLBCiki3ZVQJjcCLe5pdSYYB21Mw80vBFFoEk3fwSBiSzCluD5q/ymYqkO53uaFlCyeS1wkFjkn6z1DTD7Us27U/YFXIQRWFbnLNfiRqTuWCE2cYX1NYqbvUpuhLgjvlL51eh0AIiRkxy/FJNZdBl9k/DSwGNRW9cHzK4nRgKvG1kaxGux41NpUv1NbWHME9Z5shpmrOLS6sjP4ZpGH3oPrcuPrwGmQX9ocYjVciC0/1wsywQlXCvuhN+aVynPEst4EuVSbR2Z+1wQIyfWjZHATK/EHoe4LF5LHtafnKQGRQBPGPMuf7yXjP8qHV5JednzN9FG00K66oT3N5bOTyhN44x9p+RAOPRaRMP8RCD9fz4bBHIf57gSGZkRlEFK/vejZIzcGrwAzyjjtfDB5EJD78+T4NffbqqOw8xHKW9TCFkyY94//Jj3QWN4bcyrXx9HTMWKMINA73YxVA6E3/STedCAaxElZOlWBSNcMkTcFDh3pSBGgiw0nvCJ1ypGEaVMR6xB2u/u5DPhN7iyY17OuauReuOBe8RCrlaR+uMr/UIwIbQJz//lXJACCAUxMhB3zHfE7Y8goaVB0mNkTEXY0chNez4s57WicSrsOshWQMzb4Wsu6z2solJiaFRoD4MPvYfJBa9G/Y2zTlliQrj0aQLuVICCCIU6xY+Rq1yTa+tIhNf6x/5Ai0yi9AskmAVF5S/fgWwT1HmKwBPmpf2MEpdu4dIZDSDMJzKMbkXzjelMo3XSv7150CyXeKcvJbw2OL7FvLTth2MmL+Rnm/2NFeYntMJPpjOpiakNIAzOJXa4EKwEfmJqfzZo0LXIwmpmW4P49aB5lOHERmFDK6SbHsEzoD6E4LB5FleKO+yjXIS1MVLLJrySzqZ/5/Pv332wSsuJweEg5oX1Ga5EfkCh6ob51ncQLlcmQhYH3uKeiqkiVDRGdrwQEl9KacX8CJ6BEdpmwFyUC682HMbPXysRDlEIKSyO/o2oxuYy9UrXJqJ1m2DajqOqgFcbDsM0R3LIFJkIqxhsyda2cmUeGFNEbt0IIXxlWCPTlno0wCTwV01mYYlMhIllVNwBL9UhbHfcry1kMR/UDeUt2+UIh931Sx68kInwcmge/xyvqgKh/5pXKW0BIf6tD8g7VITwQ5/hwFfLRLjoaTwo5lSF8IhPDpHRFhDCTJY/roeKDBFkNDET5stE2N8mQlW5jHkgbpcH0haaNIIRPWpmWL+RqgmHpsGdBstEeNAnc7T9574XQ/pdDu1nHd7vKl+9rcLULEI7nA9uJ+ycAZ2uVSDWPs5J/zmP4nltZpS4uMrtS0ESJJTmyDCh+hmF9TWKGDQ6ymBCtNFfn8zmfDab82n07A8aw6UjlGUhVIj7qYjsFFuy3+vrxhdJG12TN7ilrHdL2eCeOu9Jgqn9p15WYXyuh31wR31B/c6PpkAn/Pg++ZQAMzDB437PEsraDsKqoHBgK3UNiI+nz4gPvYcCwKE9gAxCu+mBd37oNTTaZEb8vLWpWw59PWT+9eCZr/tPp+85kb77WMENhyq/UGZ+kazPatRNS1gcuIjM+lJC9vxKeJ1U7p5c4ZZS4ZpS/jK53Do8f5Vriu7NKD7Cve9xW9/4ZhDaDkLyl0R/nDrAE6KmE9JFO7jToKAOmoE/940aMilp9c48y//w7l4EzwCCVwDB05/g4VfpH0pNTIVKKxC23AugVXhXYACYAnFJTE4VnY2nQWwu0nYQsglVRXbO5LgkCE8AP7MriZwqEodYzaVQQbKDcJTZYhQhZEKMSjKhilJJoZMZLAaHy+H9GM0x34URJgNICkIXP6dRuwzH7TVadWnRCYcDjl53vaI9guMDguP9g+L8A2J9guL8ErJj8yvy6Czaj5lUOSlSFTc7gx0ZCvm+hfzeQQGeUMB7IOaje7TT/zDvWElB+MjPaebRCbOPT5p5bML0I+OmHR4z9ZDZlEOjpx4aPeXg6EkHTKYcHLXIfPYm61VH7fddfHz68tOzl5+es3hift7lX8vn558FP/qc/rGyGv9j9rEPhE7nxEWz3J7QLxylndxLO3uIdv4w7dwhAImyaxV55QzStOHEUVpEs4HEsYOJYwbxNVabOE6bdmKXFIS339rOODoeIGxQs45PnHVMILEf5v479e/TM5ac/d+K8wtWXFyw4sKCZefnLTwza7XF4ouPTsdkRMPN8kqX7zM4iV+YD25TD24izRpZPdeseuFEgSZUzx9XPduUNN2INNmQNNlA8K+YpgyRrsmGlN2rpCK8jhGhvAIGfc3VUtaVA611MGwvEI371pjOOG3SBD3SJAPSlKEywWAXQLhr5XdFCNyy7SsrTltDePsKcZyOEoA1F4RuPxCqHuGtN6pCCHZ77ZUlxIHaEEAEZvx3mTReZQh3rpCC0NnXUZiRqgKhxZOzDIjRhhByOfTrF0gTdFWCcJIBVWpG+izIZcYRlVghODL2395JpFS1ISOEWHSr06SJeipCSL9wRApCz49v/jo8VhUIQdUBio0ifGEbQkgmUQ9vJU3SVwnCifqMG5ekIIzNjJl8YJQqEAIZb9dNL0hpOwjh4vzqBePrq+0aZYX6zAe3pCAsJhRN+GekihCa7R4alxXThmr51IQq/a7KqQLrapwO5Oku/UyFyU79OScmqyIWmu0Z6v3Jow2dqYgMrtJXU1FGShylxc1Ilo5wwr6RSiU3fsI/xhP/GbnJatXbCLfc0uw25EhLCiEv95oGzaj+xDGDSFOU5FSnDq0a2lP8lmYohOstlza+rgDJy5SDoyfuN9lwZUVmUQahuoJMr26jvVE2BFeUweWljAe3SBP0iKMHKKPMGEoc2Vf8Q1AIz7uc/OuIIkmpsN+94NT0xWfnbLRamV+ey/sxpA2m/TXSDKPquWakacMa6GXLzmWqV86QifCR/wNgQNgj3NRDZtMOj1lnudTc+fjph8eS8xJ/QMK4NIFhb0P7dzd171pAkThWWxA1seEcr0s7tVcmwuySzFG7DBsgd2zCpP0mIMPcZL3SK/qdb4wn2ApTksYgFviebAsUt0UWPyvCdOkPwmRAgV6QlxvD9iKgSDTux8dZbx4LvDHrpbNMhGQ6efw+I1kRDlSNkw+OWnZuXlxmDJ5UUU0jYfxK+Z6Hk26PSbGfFHdVj16W3Lr50TgI7lXGH++y+vvk9H6f9RIbS0HULEWIlQybs8QRvWVGTZDLGHSDy2RfU0Fn0UEkk8ho5p36a7H57I1XlmOszREuG4aoLFJhzpvdsZf7xVlrx9vox18zFCrZblLrRrgupqzd66+4Wrln4FzT1d5mvi+lVUJcOheGsbhaDptx5RR5wfjqWSb8qCnW4AaxEKGQZSKE2KxLj89MOmA67ZDZqosLzzw8dtb5RGp+Eqa+LpNMzv1Azg3Ne3/wk3mXL3x4OrXkapXq8BeL2GqTHToX0fPNRSGslWs67nla+9dfb2QT35dQ46qx3m2HYX+NenwnZedK0mQDotlAytYlCIMuEyGCIJ/So5y87npEvU7Nw0QOhuilkbcK/M5ku239Ytn/y2VNAbkhdeEJBXxpacTN1orQMYf0yxtp/MT1KgOw7OmVvTWufFtsmV8FprVkCI0Geb9muT1mh/rx0IsLJdeRcmEulkUuXBY59+2eZLuJKQ7T4q8PAWDEvWV9stFPc5oJkUta310wgAmu+FSKc8toAKHIx/LdbJf3WQN8c4f45LiXULGlvJLzhmUpMMI3T5gDs+lcFqXA99/P57oJIpwBJmZ1BCyVmPae1+qukQkqp+OepmLlJ4VoBu5lejv3DGCXZA7M+na7vQanCdeQtVEoBVGkzIACv1MxF3vFXOrDh3d9iGLwahV7ZQDMYbUmfmCijYPy+RgURigeNZ+kanlnPy2keJfRksksRRDCbEZZ1J1Cv9M57tv5Ec6yP59c47ChIqK1TpbrptaE8FBiBbAhJfATd7OA5Ys0De+cTV/K9n4pC8TTsSKEqovTnRcIIpwO1gingCFa61SlvGk1CHGv0vmT/lo1Ant2ywAs/cppWK0QlOEqIlerBNvh1MJPrckQTYMLlONIZUjDI0sOR1oR66JczykmA+BF0+7PaZVFxZ0c0q9vMlVkiMs+lcqBEEG4sVcGqgThVb2iwIutLJcRHx6lVA3vbH5uqVyEz1MzZdxJW2ZGmvN2r9T2SmME0iJWVS44PiSPGA69ReLi0uEQYx5L8qkBhQzOiVQCyESUaIL6frlyFxVcJvnTue719FnkEygirw+R3uB9uxCy00AYLe8aYPg1DvbpAXur8UixdX9r/bVKaaHxRdob2YW/TITA12W+WKMcQ7QdBuoTXl3jIyRxPFdD9/pD9/UgJ22EnNdi6EEE2Lcn7KsO+3Tn6zWOh/fjcSXTRbvc6iEBeXL0a2SYYOf3WUzZ10jXV9oT0z3jrLQbV//pgoOAlOkvxcpjbKBHIyEHwE+XL8dB7CemSHVOS+CHh4MNYK/ONfz46gF7tEfi1vMoyeLFPj8xZHG3xJbhXjbCqb5Mt0ivqucq9/oQQuSSdOf5CpeGIPKlPZjDrJSy6okTuBuYHXRfp4ZfDcWB0AN9hNq87z+LcATOU5zfN3l3hf368KiSz0zhIMi5tEp+4agQQnXP7FgiU/EGW1GwhYK9UBv94mBLBOZKprrUYrbrDMhpMAqeuO71R/BJzZQfsxR+gxP5TykC5tgOKXSuu2lcNeu3t5nt5G+cbokpbVSPFKouSrptJqfz1E66Naok7JqUI7gkknWne338hHLS4cbf5jWr51dwGUjZGz68+vh9o+jZAY6cxmNLuYZkuH+u4AQFVoQd32VGEBiNQshPkQPPYy/zv1zWzH61pTo7SCwc1BwL3Lj/oLs9+ZlL/fz40oHsenPeLOA1n/KRkgYHDOK7ygb4fZNXR/iDKVIVJTEP4KdTKQTs5f//whq+EKVhhAgCx18fhu38w8BCvzNcVp30l1rCdpshCH66WOXQnxt1DqTFzSgIxm+Fvf7EipBPsTMcOAhO2F73nMZXKsRPU+u1Rb7LfZ5G58BKQAhGdVbgF4s+DVZ+xaFWUr45vQK63UMOeN8SVLg8tol9J8TmMFFuAA41kQNhrV8NGy11//18cuqrN1wzDiZiun0IJoQIws18vkaWOwWvpzr+xShPlXSebCoIadCtriDPlBOhDjcOtTiD4f2VbBsBJZXx4O9xopiQlpXw0P0krttHGyfUPGRZ8j2kvBS9OsFhZgjxY90POp0qw6m6Z3R7n43xu2K9gRetJD7Bdnj8NYO6zjPbfRsM0esaH9tjqaDs05PbBB+PBPhF1lBCKTG5nf/n2bxfT1f+857mlsLjqur+J/nBH4NOWNt0N7XuNMK2l5njyPkQBVWww5+XSK8oGqToo45kXqr7iW9LqJ09snCu6RLr3p4VUjAerXLcgy3f83CcjZ4YvyEgecHHPYY5TLSr5yGlUdATU8hhoNzw+EWFJkJArXakPYnP73y+oMcloPyO5wo1rUrG2OFXveASlHYTKg4TCj5x9eHYpXb6M692MbLtPUYom27Grgt2oPuBVTV9Nbk9Kh8k8nkRSG4lPh2ExqXRJaKeqnvGwqhi7O5GDoQcelXy3XEi+7PSBq9ICSFhxwWZi54i/BwHsT2WoT40uwoYn5CfSOpAFgXdLuT9coZ0KYSTT1QYXtorH9veY4HZ3dAYawv0DV6trvw+lIavRB2jFT6wR3tFEPLVDQ4czKOkSCQ4QFcyqoShUc0jM4Qgx30J5LsTIiHhRdxVEBEN0l3+RhufMGRVcnw2Qfe0FIEnKAehB3oS630I612B5UkiFLG0yO90rrCfFSqBJuRzsz5zc+O5BclwYQpfRancvDhubiw3LYzzGbVUINb+uXXnEXXJiaQx1kbNGBZ/ugerAomaDnurKU7xDY5X4ctDJE8e3cwm9fbM2p8o303Q5ELIn9x872OlETfq8oNz3nPeLYbsNBTkB3S3F5zrhSpGHsXl/XpGJr9vFlk44KroT2TRGNeXk1f/Tl7VgbKxG2VrL8qWXpStvcmrfiOv7UjZ1J2yrhPqqKsiWXYwrA8hn+KYoGPoZLvCG/bvryhCQZr6FoekHuHR8yV6qh8rGTw512fKfT9S/tnaOk9g54SdgFxGADeoOD/HgRy/rTz0kVGocbkBfkDdLlbu9xRNBBkPsFH36VD36Qr+rdW3/+7oBxeni1pmRPKldtoNIOw95vbAKTl+4ah5iJymYEQU9VTV4GADHrmx3URc4zMBjt/2hntmDeqJKVz0AXWgL3vWMD+Q4HQ6B+NpaIQ90fDQ2jOI6bhb1DWi0Cza6zaI0Ka7id/+i1z0k8lhj18aSxFs/g7HK/duMoRIZRr75TToXr/G8ruvw/HdjPJvPl9B5okJ4R+oRz7CVUWULfUiBOa4X1+8fvfYdBwQapDi5V8N8oKiUF+//B3s8XPjEHbnN109foLjNtQ9n6pyhCD1h+70kK9tJksP9FF7pkEVi57kdznfMEJ1ixzccVRf3t8OuMp6EerQTowS3yTdzaeBjEag673MQGojOQmfF8KefzSWoncXJHIKj1Hw3a0QonA8V4IyrnH89Fg3OyKlqM4F7VVy3i+nsZhgQdcLJaPuojIgYGR7tRtAeMwYEbuyJMsrxKrjsAYRAl3rbuq2dC8qv6Mkw359+Emm4vy6wgEDeGxiE8VCLov9fHyjAqGDFjfqgsT1Ffl/nsXEr8elvA7m9DeoGouyXaN+fnwdHML++EqE0DPk8i/6WBAKs9Ms71CUIaYeU6TrVltgeP1Zd8XGd01nEHI++8kofkmnYCGojxBRz3wvMb0LkkysCNufgqsYaIR9G0a4T4dpv612k8qM3Pumi/h+EhvFJ3+tQ8Q7fBwq/GGUgvx81HnU9KbOSAHFinjIeZhiXpSb5Ci+K/q7NOAbMfIDFWEu7hhcJWrPcotSqTs0MSF0EiWlCAx7bjt1vedojAiBO/1k+xA1AwX3+ad55c5O1XkVSniUnHKeU4GQ81h31eVtqrEfm/I4Ihvi5BNLRt7Cyg+o+6WCLudhiuh8EOPmGurewZgQOuwU//v9D1y6ro4V4fWeZnd1p9MqKlEz8GUFyErkqSXa8cqUczss5T1qhE0VUMSOUBupQq0Uoth/wpSF1pYTnc9X7nqHiD0ZmHbcBAs/IPqFGXC5aLWc1/bTNt1MsIZDYIjdTNyW7pFYmcFfVoPREEEtWPlBWROvzKfFgLjI79HcxxAXHQZwPBaj0tvEsvw/zsphggDh7+Z0T9RBQDsxGiNC6u4BnM9vxTqlz25qTsCOEMjyNwMQRNEd5ED4/W8Nxz9fdV5liBKnXckP/EHwiexn4/nLCetxqk7aIANCd155+LWu2BPRmlzm1zN0D1EugEAM2lFjjAgpO/qJJ6V0AvHe8LlyIeTbYg9T1Gl9dhUcOVVwalAWv66wnwavMlS5c678ZzYhlEK2+2zIvq8siqxbXeFcH9TCjmvhwKTk4sdH+MtphpfICqEQZ+oBA6xWuEOT8wl1ysLJ5G95EQL5H7RAt6tC4UBt6cHPuxOfH/Wr0idcNY/d4jI5/jukN94cB3LC/5VY11TY67K8/Aq6XywZfZedJcopmPd2NFjUi7RLi/n0Xx5bZEN2+jMVQPif1qR0d19Uhy9iqpSI6PUnEjaax1XJ1T+qenIaD+FyI89BD/QkQ6OLEVKIigTl0+/LzY/fl7lYuR1lRsz7e6n7MCMEsA8NQ8iia3GeTl+vAEKbrsa++87D6CfWgWoBXfx1ReLWNLJ+bwqEwi+T/oz9bKygCVfjVLnhqNuwMQKzC/tbKYTwQuWed6hd2W2VwwpBONzUHSGKFkoXhESDgk8Bipa/GaY+f486ekteCrJTdX5c9O2N5Niq9A4tqkUoPJvB8d0E3VHnW6SDFsrd4mllEx3kqOXRFQVhs+jmxnBJBv3cVOz8+Ai39ETIqPPjV9VGKoDwes/Rt7QmCRcMiL514i74LQ4OH48Qo1Q9wypHKJxhbspD6GZHicvPGN5fsbaz66iwryXVWbTQlP3RjdLQCQpJhNs0OElB4n/Pld+H2GqMUYSi+uhHk1ehvjE5GUk+wONQv8Pkfh+EggOzCtUMhImMvJ9OKsYPqNjwBlwtOsXPjn5N3akpF0Lq7oF064Xif5JVx+EK8Kst9gsjm2btMo7XRKNsqlOB2gWFEZYM+w/VGop8KTdCQTgU30mkpZ1ivlS4Sure0DnkwtK2gpARkJ2LOw6ySv5yQgUQql8q6i+2HglislwOUXcNkBvhdtRNrqtzC/m+VH54IBxatNd9v/kEnUBsKwgRNhemsErH38v7WaFY2P1ixfLnor1Vl1P2DJKjohAh7MNjimo1BrHa4mc9eRFadRzmZLKAmJUPszlty5HWFHNBOcUjbxX2sZTLqeZ3Oc+MEC1TQEhllC295OUn7JRCr0XtFTaNfgE3UOqCYGndtVE3NSc4GM1Lee7ZtHPYxAhrVku4xOFXvCjUsMz//Sz/fG9D3jW/4zmUTQMr3KoQQqBjxmJrEKDnczZf61FvddjLjL9iv5fZq8W7Y+2fNYf7OTYLhMJmNyu6kHQ6AFT6ubh/6wOpbpGLOyG+KSfmHWVbH8UQ0o6biJ37RZIfv5W+FAoEvF5mlh0MbbqZBhy+XBQZy2E0l8tXmw3CGhowTIWYAVklRrf4JaPUqr87P51Bnes3n0zlx0KFEB4dKb6rLO9Qqz+HScJTHw3SnLv6MwBgiEJrqpjXQhCK0ywgEU/4Fg64yu/A9bTIB8ESmGb3S/l/niXboBZWN7RwtIGlUJwUUc82xyeMvxSqlxkIdYDfrYFT/tOc4LfvQkVierOdqOaLUFQyfCkmXQ7Br3MFGWyhplUO7ginCPUEIcr2fooj3KfDdDksqlbjUkB599Bsydu1h0LP3MgPbQH3amwBCEV2mU9kRuTTniUiTI5YdzSdsqELdZcWSC+pewYLOt261H9kC9QeewdTdw/kv397H8rGbgybJaKPYLLKE9Krvrake/i3JITS0yBSCRTowHI5wri5hm4+EUCibOxOXvMHn+t6NerGbnytV6Os70Je8yd5XWfKPm3aqXGMa8uY9/dCfne5mdG8Fv6Q4RaPUHZrHebBXIRFAwI/8GC4tX7R1ouwzYwfCH8g/DGaevwf4LcrbD6ziDwAAAAASUVORK5CYII=' ' class=\"itemThumbnail\">\n",
       "                       </a>\n",
       "                    </div>\n",
       "\n",
       "                    <div class=\"item_right\" style=\"float: none; width: auto; overflow: hidden;\">\n",
       "                        <a href='https://undesa.maps.arcgis.com/home/group.html?id=15c1671f5fbc4a00b1a359d51ea6a546' target='_blank'><b>SDG Open Data</b>\n",
       "                        </a>\n",
       "                        <br/>\n",
       "                        <br/><b>Summary</b>: Open Data Group to support the Open Data Site\n",
       "                        <br/><b>Description</b>: None\n",
       "                        <br/><b>Owner</b>: tbutcher_undesa\n",
       "                        <br/><b>Created</b>: April 04, 2018\n",
       "\n",
       "                    </div>\n",
       "                </div>\n",
       "                "
      ],
      "text/plain": [
       "<Group title:\"SDG Open Data\" owner:tbutcher_undesa>"
      ]
     },
     "metadata": {},
     "output_type": "display_data"
    }
   ],
   "source": [
    "open_data_group_id = '15c1671f5fbc4a00b1a359d51ea6a546'\n",
    "open_data_group = gis_online_connection.groups.get(open_data_group_id)\n",
    "display(open_data_group)"
   ]
  },
  {
   "cell_type": "markdown",
   "metadata": {},
   "source": [
    "### Process the SDG Infomation\n",
    "\n",
    "Allow the SDG information to be processed either as a batch of by individual series of infomation"
   ]
  },
  {
   "cell_type": "code",
   "execution_count": 8,
   "metadata": {},
   "outputs": [
    {
     "ename": "NameError",
     "evalue": "name 'process_sdg_information' is not defined",
     "output_type": "error",
     "traceback": [
      "\u001b[0;31m---------------------------------------------------------------------------\u001b[0m",
      "\u001b[0;31mNameError\u001b[0m                                 Traceback (most recent call last)",
      "\u001b[0;32m<ipython-input-8-c61f79284309>\u001b[0m in \u001b[0;36m<module>\u001b[0;34m()\u001b[0m\n\u001b[0;32m----> 1\u001b[0;31m \u001b[0mprocess_sdg_information\u001b[0m\u001b[0;34m(\u001b[0m\u001b[0;34m)\u001b[0m\u001b[0;34m\u001b[0m\u001b[0m\n\u001b[0m",
      "\u001b[0;31mNameError\u001b[0m: name 'process_sdg_information' is not defined"
     ]
    }
   ],
   "source": [
    "process_sdg_information()"
   ]
  },
  {
   "cell_type": "markdown",
   "metadata": {},
   "source": [
    "### processSDGInfomation\n",
    "This function is where the majority of the work will happen. Here is a basic outline of the steps we will take:\n",
    "- Build out the item card infomation from the Metadata API and addtional information\n",
    "- Create an Group in ArcGIS Online for the Goal if needed, otherwise update the property information\n",
    "- If exists, update and move to Open Data Group\n",
    "- Publish the CSV File (if the property_update_only flag is False)\n",
    "- If it doesn't exist, publish as a new Item then move to the Open Data Group\n",
    "\n",
    "##### goal_code (default None):  Indvidual goal code.  This will process this goal and all the children targets as well\n",
    "process_sdg_information(goal_code='1')\n",
    "##### indicator_code (default None):  Individual indicator code.  This will process this indicator and all the children targets as well\n",
    "process_sdg_information(goal_code='1', indicator_code='1.1')\n",
    "##### target_code (default None):  Individual Target code.  This will process this target code only\n",
    "process_sdg_information(goal_code='1', indicator_code='1.1', target_code='1.1.1')\n",
    "##### series_code (default None):  Individual Series code.  This will process this series code only\n",
    "process_sdg_information(goal_code='1', indicator_code='1.1', target_code='1.1.1', series_code='SI_POV_DAY1')\n",
    "##### property_update_only (default False):  If True this will only update the metadata in the item card and will not process the actual data sources\n",
    "process_sdg_information(goal_code='1', indicator_code='1.1', target_code='1.1.1', series_code='SI_POV_DAY1', property_update_only=True)"
   ]
  },
  {
   "cell_type": "code",
   "execution_count": 9,
   "metadata": {
    "collapsed": true
   },
   "outputs": [],
   "source": [
    "def process_sdg_information(goal_code=None, indicator_code=None, target_code=None, series_code=None,\n",
    "                            property_update_only=False):\n",
    "    try:\n",
    "        sdg_metadata = get_metadata()\n",
    "        for goal in json_data:\n",
    "            # Determine if we are processing this query Only process a specific series code\n",
    "            if goal_code is not None and int(goal[\"code\"]) != goal_code:\n",
    "                continue\n",
    "\n",
    "            # Get the Thumbnail from the SDG API\n",
    "            for goal_item in sdg_metadata:\n",
    "                if goal_item[\"goal\"] == int(goal[\"code\"]):\n",
    "                    goal_metadata = goal_item\n",
    "                    break\n",
    "\n",
    "            if goal_metadata is None:\n",
    "                continue\n",
    "\n",
    "            # if a thumbnail was not found use a default thumbnail for icon\n",
    "            if \"icon_url_sq\" in goal_metadata:\n",
    "                thumbnail = goal_metadata[\"icon_url_sq\"]\n",
    "            else:\n",
    "                thumbnail = \"http://undesa.maps.arcgis.com/sharing/rest/content/items/aaa0678dba0a466e8efef6b9f11775fe/data\"\n",
    "\n",
    "            # Create a Group for the Goal\n",
    "            group_goal_properties = dict()\n",
    "            group_goal_properties[\"title\"] = \"SDG \" + goal[\"code\"]\n",
    "            group_goal_properties[\"snippet\"] = goal[\"title\"]\n",
    "            group_goal_properties[\"description\"] = goal[\"description\"]\n",
    "            group_goal_properties[\"tags\"] = [group_goal_properties[\"title\"]]\n",
    "            group_goal_properties[\"thumbnail\"] = thumbnail\n",
    "\n",
    "            # Iterate through each of the targets\n",
    "            for target in goal[\"targets\"]:\n",
    "                # Determine if we are processing this query Only process a specific target code\n",
    "                if target_code is not None and int(target[\"code\"]) != target_code:\n",
    "                    continue\n",
    "\n",
    "                group_target_properties = dict()\n",
    "                group_target_properties[\"tags\"] = [\"Target \" + target[\"code\"]]\n",
    "                open_data_group.update(tags=open_data_group[\"tags\"] + group_target_properties[\"tags\"])\n",
    "\n",
    "                # Iterate through each of the indicators\n",
    "                for indicator in target[\"indicators\"]:\n",
    "                    # Allow processing a single indicator\n",
    "                    if indicator_code and not indicator[\"code\"] == indicator_code:\n",
    "                        continue\n",
    "\n",
    "                    process_indicator = dict()\n",
    "                    process_indicator[\"name\"] = \"Indicator \" + indicator[\"code\"]  # eg. Indicator 1.1.1\n",
    "                    process_indicator[\"tags\"] = [process_indicator[\"name\"]]\n",
    "\n",
    "                    # Append the keyword tags from the metadata as well\n",
    "                    open_data_group.update(tags=open_data_group[\"tags\"] + process_indicator[\"tags\"])\n",
    "\n",
    "                    process_indicator[\"snippet\"] = indicator[\"code\"] + \": \" + indicator[\"description\"]\n",
    "                    process_indicator[\"description\"] = \"<p><strong>Indicator \" + indicator[\"code\"] + \": </strong>\" + \\\n",
    "                                                       indicator[\n",
    "                                                           \"description\"] + \"</p>\" + \"</p><p><strong>Target \" + target[\n",
    "                                                           \"code\"] + \": </strong>\" + target[\n",
    "                                                           \"description\"] + \"</p>\" + \"<p>\" + goal[\n",
    "                                                           \"description\"] + \"</p>\"\n",
    "\n",
    "                    process_indicator[\"credits\"] = \"UNSD\"\n",
    "                    process_indicator[\"thumbnail\"] = thumbnail\n",
    "\n",
    "                    # Iterate through each of the series\n",
    "                    for series in indicator[\"series\"]:\n",
    "                        # Determine if we are processing this query Only process a specific series code\n",
    "                        if indicator_code and not (series[\"code\"] == series_code or series_code is None):\n",
    "                            continue\n",
    "\n",
    "                        # Build the metadata properties for the item card\n",
    "                        item_properties = dict()\n",
    "                        item_properties[\"title\"] = process_indicator[\"name\"] + \" (\" + series[\"code\"] + \"): \" + series[\n",
    "                            \"description\"]\n",
    "                        if not series[\"description\"]:\n",
    "                            series[\"description\"] = series[\"code\"]\n",
    "                        snippet = series[\"code\"] + \": \" + series[\"description\"]\n",
    "                        item_properties[\"snippet\"] = (snippet[:250] + \"..\") if len(snippet) > 250 else snippet\n",
    "                        item_properties[\"description\"] = \"<p><strong>Series \" + series[\"code\"] + \": </strong>\" + series[\n",
    "                            \"description\"] + \"</p>\" + process_indicator[\"description\"] + \\\n",
    "                                                         \"<p><strong>Release Version</strong>: \" + series[\"release\"]\n",
    "                        final_tags = group_goal_properties[\"tags\"] + group_target_properties[\"tags\"] + \\\n",
    "                                     process_indicator[\"tags\"]\n",
    "                        final_tags.extend(get_series_tags(goal_metadata=goal_metadata, indicator_code=indicator[\"code\"],\n",
    "                                                          target_code=target[\"code\"], series_code=series[\"code\"]))\n",
    "                        # Append the version number to the tags\n",
    "                        final_tags.append(series[\"release\"])\n",
    "                        item_properties[\"tags\"] = final_tags\n",
    "\n",
    "                        # Add this item to ArcGIS Online\n",
    "                        print(\"Processing series code:\", indicator[\"code\"], series[\"code\"])\n",
    "                        try:\n",
    "                            if property_update_only:\n",
    "                                online_item = find_online_item(item_properties[\"title\"])\n",
    "                                if online_item is None:\n",
    "                                    failed_series.append(series[\"code\"])\n",
    "                                else:\n",
    "                                    # Update the Item Properties from the item_properties\n",
    "                                    online_item.update(item_properties=item_properties, thumbnail=thumbnail)\n",
    "                            else:\n",
    "                                online_item = publish_csv(indicator, series, item_properties=item_properties,\n",
    "                                                          thumbnail=thumbnail,\n",
    "                                                          property_update_only=property_update_only)\n",
    "\n",
    "                            if online_item is not None:\n",
    "                                display(online_item)\n",
    "                                # Share this content with the open data group\n",
    "                                online_item.share(everyone=False, org=True, groups=open_data_group[\"id\"],\n",
    "                                                  allow_members_to_edit=False)\n",
    "                                # Update the Group Information with Data from the Indicator and targets\n",
    "                                #TODO:  Get clean set of tags open_data_group.update(tags=open_data_group[\"tags\"] + [series[\"code\"]])\n",
    "                            else:\n",
    "                                failed_series.append(series[\"code\"])\n",
    "                        except:\n",
    "                            traceback.print_exc()\n",
    "                            print(\"Failed to process series code:\", indicator[\"code\"], series[\"code\"])\n",
    "                            failed_series.append(series[\"code\"])\n",
    "                            return\n",
    "\n",
    "    except:\n",
    "        traceback.print_exc()"
   ]
  },
  {
   "cell_type": "markdown",
   "metadata": {},
   "source": [
    "### Analyze the CSV file \n",
    "Using the ArcGIS REST API `analyze` endpoint, we can prepare the CSV file we are going to use before publishing it to ArcGIS Online. This will help us by returning information about the file inlcuding fields as well as sample records. This step will also lead into future steps in the publishing process.\n",
    "\n",
    "More info about the analyze endpoint can be found [here](https://developers.arcgis.com/rest/users-groups-and-items/analyze.htm)."
   ]
  },
  {
   "cell_type": "code",
   "execution_count": 10,
   "metadata": {
    "collapsed": true
   },
   "outputs": [],
   "source": [
    "def analyze_csv(item_id):\n",
    "    try:\n",
    "        sharing_url = gis_online_connection.content.gis.url + \"/sharing/rest/content/features/analyze\"\n",
    "        analyze_params = {'f': 'json', 'token': gis_online_connection.con.token,\n",
    "                          'sourceLocale': 'en-us',\n",
    "                          'filetype': 'csv', 'itemid': item_id}\n",
    "        r = requests.post(sharing_url, data=analyze_params)\n",
    "        analyze_json_data = json.loads(r.content.decode(\"UTF-8\"))\n",
    "        for field in analyze_json_data[\"publishParameters\"][\"layerInfo\"][\"fields\"]:\n",
    "            field[\"alias\"] = set_field_alias(field[\"name\"])\n",
    "\n",
    "            # Indicator is coming in as a date Field make the correct\n",
    "            if field[\"name\"] == \"indicator\":\n",
    "                field[\"type\"] = \"esriFieldTypeString\"\n",
    "                field[\"sqlType\"] = \"sqlTypeNVarchar\"\n",
    "\n",
    "        # set up some of the layer information for display\n",
    "        analyze_json_data[\"publishParameters\"][\"layerInfo\"][\"displayField\"] = \"geoAreaName\"\n",
    "        return analyze_json_data[\"publishParameters\"]\n",
    "    except:\n",
    "        print(\"Unexpected error:\", sys.exc_info()[0])\n",
    "        return None\n",
    "\n"
   ]
  },
  {
   "cell_type": "markdown",
   "metadata": {},
   "source": [
    "### Publish the CSV file\n",
    "This function is where the majority of the work will happen. Here is a basic outline of the steps we will take:\n",
    "- Check to see if a CSV file exists for this series of data\n",
    "- Determine if this CSV has already been published\n",
    "- If the CSV has already been published the script will:\n",
    "  - Update the item properties in case they have changed\n",
    "  - Move to Open Data Folder under the owner content\n",
    "- If the CSV has not already been published the script will:\n",
    "  - Add the file to ArcGIS Online\n",
    "  - Run the analyze tool to get the publish properties\n",
    "  - Publish the CSV file to ArcGIS Online\n",
    "- Move to the Open Data Folder"
   ]
  },
  {
   "cell_type": "code",
   "execution_count": 11,
   "metadata": {
    "collapsed": true
   },
   "outputs": [],
   "source": [
    "def publish_csv(indicator, series, item_properties, thumbnail, property_update_only=False):\n",
    "    # Do we need to publish the hosted feature service for this layer\n",
    "    try:\n",
    "        series_title = series[\"code\"] + \"_\" + indicator[\"code\"].replace(\".\",\"\") + \"_\" + online_username + \"_\" + series[\"release\"].replace('.', '')\n",
    "        file = os.path.join(data_dir, series[\"code\"] + \"_cube.pivot.csv\")\n",
    "        if os.path.isfile(file):\n",
    "            csv_item_properties = copy.deepcopy(item_properties)\n",
    "            csv_item_properties[\"title\"] = series_title\n",
    "            csv_item_properties[\"type\"] = \"CSV\"\n",
    "            csv_item_properties[\"url\"] = \"\"\n",
    "\n",
    "            # Does this CSV already exist\n",
    "            csv_item = find_online_item(csv_item_properties[\"title\"])\n",
    "            if csv_item is None:\n",
    "                print('Adding CSV File to ArcGIS Online....')\n",
    "                csv_item = gis_online_connection.content.add(item_properties=csv_item_properties, thumbnail=thumbnail,\n",
    "                                                             data=file)\n",
    "                if csv_item is None:\n",
    "                    return None\n",
    "\n",
    "                # publish the layer if it was not found\n",
    "                print('Analyze Feature Service....')\n",
    "                publish_parameters = analyze_csv(csv_item[\"id\"])\n",
    "                if publish_parameters is None:\n",
    "                    return None\n",
    "                else:\n",
    "                    publish_parameters[\"name\"] = csv_item_properties[\"title\"]\n",
    "                    publish_parameters[\"layerInfo\"][\"name\"] = csv_item_properties[\"snippet\"]\n",
    "\n",
    "                    print('Publishing Feature Service....')\n",
    "                    csv_lyr = csv_item.publish(publish_parameters=publish_parameters, overwrite=True)\n",
    "            else:\n",
    "                # Update the Data file for the CSV File\n",
    "                csv_item.update(item_properties=csv_item_properties, thumbnail=thumbnail, data=file)\n",
    "                # Find the Feature Service and update the properties\n",
    "                csv_lyr = find_online_item(item_properties[\"title\"])\n",
    "\n",
    "            # Move to the Open Data Folder\n",
    "            if csv_item[\"ownerFolder\"] is None:\n",
    "                print('Moving CSV to Open Data Folder')\n",
    "                csv_item.move(\"Open Data\")\n",
    "\n",
    "            if csv_lyr is not None:\n",
    "                print('Updating Feature Service metadata....')\n",
    "                csv_lyr.update(item_properties=item_properties, thumbnail=thumbnail)\n",
    "\n",
    "                if csv_lyr[\"ownerFolder\"] is None:\n",
    "                    print('Moving Feature Service to Open Data Folder')\n",
    "                    csv_lyr.move(\"Open Data\")\n",
    "\n",
    "                return csv_lyr\n",
    "            else:\n",
    "                return None\n",
    "        else:\n",
    "            return None\n",
    "    except:\n",
    "        print(\"Unexpected error:\", sys.exc_info()[0])\n",
    "        return None"
   ]
  },
  {
   "cell_type": "markdown",
   "metadata": {},
   "source": [
    "### Find the Online Item\n",
    "General function to find a given item in ArcGIS Online by the Owner and by the Title"
   ]
  },
  {
   "cell_type": "code",
   "execution_count": 12,
   "metadata": {
    "collapsed": true
   },
   "outputs": [],
   "source": [
    "def find_online_item(title):\n",
    "    try:\n",
    "        # Search for this ArcGIS Online Item\n",
    "        query_string = \"title:'{}' AND owner:{}\".format(title, online_username)\n",
    "        print('Searching for ' + title)\n",
    "        search_results = gis_online_connection.content.search(query_string)\n",
    "\n",
    "        if search_results:\n",
    "            for search_result in search_results:\n",
    "                if search_result[\"title\"] == title:\n",
    "                    diplay(search_result)\n",
    "                    return search_result\n",
    "                \n",
    "\n",
    "        return None\n",
    "    except:\n",
    "        print(\"Unexpected error:\", sys.exc_info()[0])\n",
    "        return None"
   ]
  },
  {
   "cell_type": "markdown",
   "metadata": {},
   "source": [
    "### Collect SDG Metadata\n",
    "The Metadata json is located within the data folder and downloaded with the code"
   ]
  },
  {
   "cell_type": "code",
   "execution_count": 14,
   "metadata": {},
   "outputs": [],
   "source": [
    "def get_metadata():\n",
    "    try:\n",
    "        metadata_json_data = json.loads(metadata_dir + \"/metadataAPI.json\")\n",
    "        return metadata_json_data\n",
    "    except:\n",
    "        return None"
   ]
  },
  {
   "cell_type": "markdown",
   "metadata": {},
   "source": [
    "### Collect SDG Series Metadata\n",
    "Information such as standard Tags can also be retrieved from the SDG Metadata API"
   ]
  },
  {
   "cell_type": "code",
   "execution_count": 15,
   "metadata": {
    "collapsed": true
   },
   "outputs": [],
   "source": [
    "def get_series_tags(goal_metadata=None, indicator_code=None, target_code=None, series_code=None):\n",
    "    try:\n",
    "        for target in goal_metadata[\"targets\"]:\n",
    "            if target[\"target\"] == target_code:\n",
    "                for indicator in target[\"indicators\"]:\n",
    "                    if indicator[\"indicator\"] == indicator_code:\n",
    "                        for series in indicator[\"series\"]:\n",
    "                            if series[\"series\"] == series_code:\n",
    "                                return series[\"tags\"]\n",
    "        return []\n",
    "    except:\n",
    "        traceback.print_exc()\n",
    "        return []"
   ]
  },
  {
   "cell_type": "markdown",
   "metadata": {},
   "source": [
    "### Get Field Aliases\n",
    "Translate the field names and apply a more friendly user name for the alias"
   ]
  },
  {
   "cell_type": "code",
   "execution_count": 16,
   "metadata": {
    "collapsed": true
   },
   "outputs": [],
   "source": [
    "def set_field_alias(field_name):\n",
    "    if field_name == \"series_release\":\n",
    "        return \"Series Release\"\n",
    "    if field_name == \"series_code\":\n",
    "        return \"Series Code\"\n",
    "    if field_name == \"series_description\":\n",
    "        return \"Series Description\"\n",
    "    if field_name == \"geoAreaCode\":\n",
    "        return \"Geographic Area Code\"\n",
    "    if field_name == \"geoAreaName\":\n",
    "        return \"Geographic Area Name\"\n",
    "    if field_name == \"Freq\":\n",
    "        return \"Frequency\"\n",
    "    if field_name == \"latest_year\":\n",
    "        return \"Latest Year\"\n",
    "    if field_name == \"latest_value\":\n",
    "        return \"Latest Value\"\n",
    "    if field_name == \"latest_source\":\n",
    "        return \"Latest Source\"\n",
    "    if field_name == \"latest_nature\":\n",
    "        return \"Latest Nature\"\n",
    "    if field_name == \"last_5_years_mean\":\n",
    "        return \"Mean of the Last 5 Years\"\n",
    "    if field_name == \"ISO3CD\":\n",
    "        return \"ISO3 Code\"\n",
    "    else:\n",
    "        return field_name.capitalize().replace(\"_\", \" \")"
   ]
  },
  {
   "cell_type": "markdown",
   "metadata": {},
   "source": [
    "### Create a Group for each SDG Goal  (Deprecated)\n",
    "You can create a Group within your ArcGIS Online Organization for each SDG. As you publish Items, you can share them to the relevant Group(s). This function will create the Group, query the SDG Metadata API to return the Title, Summary, Description, Tags, and Thumbnail for that particular SDG."
   ]
  },
  {
   "cell_type": "code",
   "execution_count": 17,
   "metadata": {
    "collapsed": true
   },
   "outputs": [],
   "source": [
    "def create_group(group_info):\n",
    "    try:\n",
    "        # Add the Service Definition to the Enterprise site\n",
    "        item_properties = dict({\n",
    "            \"title\": group_info[\"title\"],\n",
    "            \"snippet\": group_info[\"snippet\"],\n",
    "            \"description\": group_info[\"description\"],\n",
    "            \"tags\": \", \".join([group_info[\"title\"], \"Open Data\", \"Hub\"]),\n",
    "            \"thumbnail\": group_info[\"thumbnail\"],\n",
    "            \"isOpenData\": True,\n",
    "            \"access\": \"public\",\n",
    "            \"isInvitationOnly\": True,\n",
    "            \"protected\": True\n",
    "        })\n",
    "\n",
    "        # Check if there is a group here\n",
    "        query_string = \"title:'{}' AND owner:{}\".format(group_info[\"title\"], online_username)\n",
    "        search_results = gis_online_connection.groups.search(query_string)\n",
    "        if not search_results:\n",
    "            # Update the group information\n",
    "            group = gis_online_connection.groups.create_from_dict(item_properties)\n",
    "            display(group)\n",
    "            return group\n",
    "        else:\n",
    "            for search_result in search_results:\n",
    "                if search_result[\"title\"] == group_info[\"title\"]:\n",
    "                    group_found = True\n",
    "                    search_result.update(title=group_info[\"title\"], tags=group_info[\"tags\"],\n",
    "                                         description=group_info[\"description\"],\n",
    "                                         snippet=group_info[\"snippet\"], access=\"Public\",\n",
    "                                         thumbnail=group_info[\"thumbnail\"])\n",
    "                    return search_result\n",
    "            # the group was not in the returned search results so create now\n",
    "            group = gis_online_connection.groups.create_from_dict(item_properties)\n",
    "            display(group)\n",
    "            return  group\n",
    "    except:\n",
    "        traceback.print_exc()"
   ]
  },
  {
   "cell_type": "markdown",
   "metadata": {},
   "source": [
    "### Clean out the open data site\n",
    "This step would generally only be used during testing and does not need to be called each time"
   ]
  },
  {
   "cell_type": "code",
   "execution_count": 18,
   "metadata": {
    "collapsed": true
   },
   "outputs": [],
   "source": [
    "def cleanup_site():\n",
    "    user = gis_online_connection.users.get(user)\n",
    "    user_items = user.items(folder='Open Data', max_items=800)\n",
    "    for item in user_items:\n",
    "        print('deleting item ' + item.title)\n",
    "        item.delete()\n",
    "\n",
    "    return"
   ]
  }
 ],
 "metadata": {
  "celltoolbar": "Raw Cell Format",
  "kernelspec": {
   "display_name": "Python 3",
   "language": "python",
   "name": "python3"
  }
 },
 "nbformat": 4,
 "nbformat_minor": 2
}
