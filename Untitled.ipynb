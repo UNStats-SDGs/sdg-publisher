{
 "cells": [
  {
   "cell_type": "code",
   "execution_count": 32,
   "metadata": {},
   "outputs": [],
   "source": [
    "import copy\n",
    "# used to prompt for user input\n",
    "# when using this script internally, you may remove this and simply hard code in your username and password\n",
    "import getpass\n",
    "import json\n",
    "import os\n",
    "import re\n",
    "import sys\n",
    "import time\n",
    "import traceback\n",
    "import urllib\n",
    "import urllib.request as request\n",
    "import urllib.request as urlopen\n",
    "from datetime import datetime\n",
    "import requests\n",
    "# this helps us do some debugging within the Python Notebook\n",
    "# another optional component\n",
    "from IPython.display import display\n",
    "from arcgis.gis import GIS\n",
    "from arcgis.features import FeatureLayer\n",
    "from arcgis.gis.server import Service\n"
   ]
  },
  {
   "cell_type": "code",
   "execution_count": 33,
   "metadata": {},
   "outputs": [
    {
     "name": "stdout",
     "output_type": "stream",
     "text": [
      "Username: tbutcher_undesa\n",
      "Password: ········\n"
     ]
    },
    {
     "data": {
      "text/html": [
       "GIS @ <a href=\"https://undesa.maps.arcgis.com\">https://undesa.maps.arcgis.com</a>"
      ],
      "text/plain": [
       "<arcgis.gis.GIS at 0x10b4b5320>"
      ]
     },
     "execution_count": 33,
     "metadata": {},
     "output_type": "execute_result"
    }
   ],
   "source": [
    "    online_username = input('Username: ')\n",
    "    online_password = getpass.getpass('Password: ')\n",
    "    online_connection = \"https://www.arcgis.com\"\n",
    "    gis_online_connection = GIS(online_connection, online_username, online_password)\n",
    "    gis_online_connection"
   ]
  },
  {
   "cell_type": "code",
   "execution_count": 34,
   "metadata": {},
   "outputs": [
    {
     "data": {
      "text/html": [
       "<div class=\"item_container\" style=\"height: auto; overflow: hidden; border: 1px solid #cfcfcf; border-radius: 2px; background: #f6fafa; line-height: 1.21429em; padding: 10px;\">\n",
       "                    <div class=\"item_left\" style=\"width: 210px; float: left;\">\n",
       "                       <a href='https://undesa.maps.arcgis.com/home/item.html?id=edc1ad9011894bab90dc4dfe89655337' target='_blank'>\n",
       "                        <img src='data:image/png;base64,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' width='200' height='133' class=\"itemThumbnail\">\n",
       "                       </a>\n",
       "                    </div>\n",
       "\n",
       "                    <div class=\"item_right\"     style=\"float: none; width: auto; overflow: hidden;\">\n",
       "                        <a href='https://undesa.maps.arcgis.com/home/item.html?id=edc1ad9011894bab90dc4dfe89655337' target='_blank'><b>Indicator 1.1.1: Proportion of employed population below the international poverty line of US$1.90 per day (the working poor), total and by sex, age (%)</b>\n",
       "                        </a>\n",
       "                        <br/>Indicator 1.1.1: Proportion of employed population below the international poverty line of US$1.90 per day (the working poor), total and by sex, age (%)<img src='https://undesa.maps.arcgis.com/home/js/jsapi/esri/css/images/item_type_icons/featureshosted16.png' style=\"vertical-align:middle;\">Feature Layer Collection by tbutcher_undesa\n",
       "                        <br/>Last Modified: April 11, 2018\n",
       "                        <br/>0 comments, 1 views\n",
       "                    </div>\n",
       "                </div>\n",
       "                "
      ],
      "text/plain": [
       "<Item title:\"Indicator 1.1.1: Proportion of employed population below the international poverty line of US$1.90 per day (the working poor), total and by sex, age (%)\" type:Feature Layer Collection owner:tbutcher_undesa>"
      ]
     },
     "execution_count": 34,
     "metadata": {},
     "output_type": "execute_result"
    }
   ],
   "source": [
    "#access an Item\n",
    "test_item = gis_online_connection.content.get('edc1ad9011894bab90dc4dfe89655337')\n",
    "test_item"
   ]
  },
  {
   "cell_type": "code",
   "execution_count": 35,
   "metadata": {},
   "outputs": [],
   "source": [
    "test_feature_layer = test_item.layers[0]\n",
    "test_feature_layer.properties\n",
    "renderer_definition = {\"type\":\"classBreaksDef\",\"classificationField\":\"latest_value\",\n",
    "                       \"classificationMethod\":\"esriClassifyNaturalBreaks\",\"breakCount\":5,\n",
    "                        \"baseSymbol\":{\"type\": \"esriSMS\",\"style\": \"esriSMSCircle\",\"size\": 10,\n",
    "                                         \"color\": [76,115,0,255]}}\n",
    "renderer = test_item.layers[0].generate_renderer(definition=renderer_definition, where=None)"
   ]
  },
  {
   "cell_type": "code",
   "execution_count": 36,
   "metadata": {},
   "outputs": [
    {
     "name": "stdout",
     "output_type": "stream",
     "text": [
      "{'classMaxValue': 7.2, 'label': '0 - 7.2', 'description': '', 'symbol': {'type': 'esriSMS', 'style': 'esriSMSCircle', 'size': 10, 'color': [76, 115, 0, 255]}}\n",
      "{'classMaxValue': 19.36, 'label': '7.2 - 19.36', 'description': '', 'symbol': {'type': 'esriSMS', 'style': 'esriSMSCircle', 'size': 12, 'color': [76, 115, 0, 255]}}\n",
      "{'classMaxValue': 36.37, 'label': '19.36 - 36.37', 'description': '', 'symbol': {'type': 'esriSMS', 'style': 'esriSMSCircle', 'size': 14, 'color': [76, 115, 0, 255]}}\n",
      "{'classMaxValue': 58.23, 'label': '36.37 - 58.23', 'description': '', 'symbol': {'type': 'esriSMS', 'style': 'esriSMSCircle', 'size': 16, 'color': [76, 115, 0, 255]}}\n",
      "{'classMaxValue': 87.64, 'label': '58.23 - 87.64', 'description': '', 'symbol': {'type': 'esriSMS', 'style': 'esriSMSCircle', 'size': 18, 'color': [76, 115, 0, 255]}}\n"
     ]
    }
   ],
   "source": [
    "size = 10\n",
    "for classBreak in renderer[\"classBreakInfos\"]:\n",
    "    classBreak[\"symbol\"] = {\"type\": \"esriSMS\",\"style\": \"esriSMSCircle\",\"size\": size,\"color\": [76,115,0,255]}\n",
    "    size += 2\n",
    "    print(classBreak)\n",
    "    "
   ]
  },
  {
   "cell_type": "code",
   "execution_count": 37,
   "metadata": {},
   "outputs": [
    {
     "data": {
      "text/plain": [
       "'https://services7.arcgis.com/gp50Ao2knMlOM89z/arcgis/rest/services/SI_POV_EMP1_111_2017Q2G01_1/FeatureServer/0'"
      ]
     },
     "execution_count": 37,
     "metadata": {},
     "output_type": "execute_result"
    }
   ],
   "source": [
    "service_url = test_feature_layer.url\n",
    "service_url"
   ]
  },
  {
   "cell_type": "code",
   "execution_count": 39,
   "metadata": {},
   "outputs": [
    {
     "ename": "AttributeError",
     "evalue": "'GIS' object has no attribute 'get'",
     "output_type": "error",
     "traceback": [
      "\u001b[0;31m---------------------------------------------------------------------------\u001b[0m",
      "\u001b[0;31mAttributeError\u001b[0m                            Traceback (most recent call last)",
      "\u001b[0;32m<ipython-input-39-f88a54a13e3e>\u001b[0m in \u001b[0;36m<module>\u001b[0;34m()\u001b[0m\n\u001b[0;32m----> 1\u001b[0;31m \u001b[0mupdate_service\u001b[0m \u001b[0;34m=\u001b[0m \u001b[0mService\u001b[0m\u001b[0;34m(\u001b[0m\u001b[0mtest_feature_layer\u001b[0m\u001b[0;34m.\u001b[0m\u001b[0murl\u001b[0m\u001b[0;34m,\u001b[0m\u001b[0mgis_online_connection\u001b[0m\u001b[0;34m)\u001b[0m\u001b[0;34m\u001b[0m\u001b[0m\n\u001b[0m\u001b[1;32m      2\u001b[0m \u001b[0mupdate_service\u001b[0m\u001b[0;34m\u001b[0m\u001b[0m\n",
      "\u001b[0;32m~/anaconda3/lib/python3.6/site-packages/arcgis/gis/server/admin/_services.py\u001b[0m in \u001b[0;36m__init__\u001b[0;34m(self, url, gis, initialize, **kwargs)\u001b[0m\n\u001b[1;32m    769\u001b[0m         \"\"\"\n\u001b[1;32m    770\u001b[0m         super(Service, self).__init__(gis=gis,\n\u001b[0;32m--> 771\u001b[0;31m                                       url=url)\n\u001b[0m\u001b[1;32m    772\u001b[0m         \u001b[0mself\u001b[0m\u001b[0;34m.\u001b[0m\u001b[0m_service_manager\u001b[0m \u001b[0;34m=\u001b[0m \u001b[0mkwargs\u001b[0m\u001b[0;34m.\u001b[0m\u001b[0mpop\u001b[0m\u001b[0;34m(\u001b[0m\u001b[0;34m'service_manager'\u001b[0m\u001b[0;34m,\u001b[0m \u001b[0;32mNone\u001b[0m\u001b[0;34m)\u001b[0m\u001b[0;34m\u001b[0m\u001b[0m\n\u001b[1;32m    773\u001b[0m         \u001b[0mself\u001b[0m\u001b[0;34m.\u001b[0m\u001b[0m_url\u001b[0m \u001b[0;34m=\u001b[0m \u001b[0murl\u001b[0m\u001b[0;34m\u001b[0m\u001b[0m\n",
      "\u001b[0;32m~/anaconda3/lib/python3.6/site-packages/arcgis/gis/server/_common/_base.py\u001b[0m in \u001b[0;36m__init__\u001b[0;34m(self, url, gis, initialize, **kwargs)\u001b[0m\n\u001b[1;32m     38\u001b[0m             \u001b[0;32mraise\u001b[0m \u001b[0mValueError\u001b[0m\u001b[0;34m(\u001b[0m\u001b[0;34m\"gis must be of type SiteConnection\"\u001b[0m\u001b[0;34m)\u001b[0m\u001b[0;34m\u001b[0m\u001b[0m\n\u001b[1;32m     39\u001b[0m         \u001b[0;32mif\u001b[0m \u001b[0minitialize\u001b[0m\u001b[0;34m:\u001b[0m\u001b[0;34m\u001b[0m\u001b[0m\n\u001b[0;32m---> 40\u001b[0;31m             \u001b[0mself\u001b[0m\u001b[0;34m.\u001b[0m\u001b[0m_init\u001b[0m\u001b[0;34m(\u001b[0m\u001b[0mgis\u001b[0m\u001b[0;34m)\u001b[0m\u001b[0;34m\u001b[0m\u001b[0m\n\u001b[0m\u001b[1;32m     41\u001b[0m     \u001b[0;31m#----------------------------------------------------------------------\u001b[0m\u001b[0;34m\u001b[0m\u001b[0;34m\u001b[0m\u001b[0m\n\u001b[1;32m     42\u001b[0m     \u001b[0;32mdef\u001b[0m \u001b[0m_init\u001b[0m\u001b[0;34m(\u001b[0m\u001b[0mself\u001b[0m\u001b[0;34m,\u001b[0m \u001b[0mconnection\u001b[0m\u001b[0;34m=\u001b[0m\u001b[0;32mNone\u001b[0m\u001b[0;34m)\u001b[0m\u001b[0;34m:\u001b[0m\u001b[0;34m\u001b[0m\u001b[0m\n",
      "\u001b[0;32m~/anaconda3/lib/python3.6/site-packages/arcgis/gis/server/admin/_services.py\u001b[0m in \u001b[0;36m_init\u001b[0;34m(self, connection)\u001b[0m\n\u001b[1;32m    784\u001b[0m         }\n\u001b[1;32m    785\u001b[0m         \u001b[0;32mif\u001b[0m \u001b[0mconnection\u001b[0m\u001b[0;34m:\u001b[0m\u001b[0;34m\u001b[0m\u001b[0m\n\u001b[0;32m--> 786\u001b[0;31m             json_dict = connection.get(path=self._url,\n\u001b[0m\u001b[1;32m    787\u001b[0m                                        params=params)\n\u001b[1;32m    788\u001b[0m         \u001b[0;32melse\u001b[0m\u001b[0;34m:\u001b[0m\u001b[0;34m\u001b[0m\u001b[0m\n",
      "\u001b[0;31mAttributeError\u001b[0m: 'GIS' object has no attribute 'get'"
     ]
    }
   ],
   "source": [
    "update_service = Service(test_feature_layer.url,gis_online_connection)\n",
    "update_service"
   ]
  },
  {
   "cell_type": "code",
   "execution_count": null,
   "metadata": {},
   "outputs": [],
   "source": []
  }
 ],
 "metadata": {
  "kernelspec": {
   "display_name": "Python 3",
   "language": "python",
   "name": "python3"
  },
  "language_info": {
   "codemirror_mode": {
    "name": "ipython",
    "version": 3
   },
   "file_extension": ".py",
   "mimetype": "text/x-python",
   "name": "python",
   "nbconvert_exporter": "python",
   "pygments_lexer": "ipython3",
   "version": "3.6.2"
  }
 },
 "nbformat": 4,
 "nbformat_minor": 2
}
